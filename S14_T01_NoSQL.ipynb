{
  "cells": [
    {
      "cell_type": "markdown",
      "metadata": {
        "id": "view-in-github",
        "colab_type": "text"
      },
      "source": [
        "<a href=\"https://colab.research.google.com/github/leobioinf0/Base_de_dades_NoSQL/blob/main/S14_T01_NoSQL.ipynb\" target=\"_parent\"><img src=\"https://colab.research.google.com/assets/colab-badge.svg\" alt=\"Open In Colab\"/></a>"
      ]
    },
    {
      "cell_type": "markdown",
      "metadata": {
        "id": "38mTTSRuHt1h"
      },
      "source": [
        "# IT Academy - Data Science with Python\n",
        "## Sprint 14. Bases de dades NoSQL \n",
        "### S14 T01: NoSQL\n",
        "\n",
        "\n",
        "\n",
        "#### Exercises: \n",
        "\n",
        "We are starting to get acquainted with NoSQL databases !!! Let’s start with a few basic exercises.\n",
        "\n",
        "- Level 1\n",
        "    - Exercise 1: \n",
        "        - Create a NoSQL database using MongoDB. Add some sample data to help you verify that you are able to process the information in a basic way.\n",
        "    - Exercise 2: \n",
        "        - Connect the NoSQL database to Python using for example pymongo.\n",
        "    \n",
        "- Level 2\n",
        "    - Exercise 1: \n",
        "        - Load some simple queries to a Pandas Dataframe.\n",
        "\n",
        "- Level 3\n",
        "    - Exercise 1: \n",
        "        - Generates a statistical summary of the information contained in the database.\n",
        "\n",
        "Resources\n",
        "Classroom resources and https://docs.spring.io/spring-data/mongodb/docs/current/reference/html/#reference."
      ]
    },
    {
      "cell_type": "markdown",
      "source": [
        "# Install pymongo[srv]"
      ],
      "metadata": {
        "id": "3FIdvkpGhsnZ"
      }
    },
    {
      "cell_type": "code",
      "source": [
        "!pip install --upgrade pymongo[srv]"
      ],
      "metadata": {
        "id": "mAKcOzaTUUhw",
        "colab": {
          "base_uri": "https://localhost:8080/"
        },
        "outputId": "785171ce-132f-45e1-dc50-1c94b90f9e18"
      },
      "execution_count": 77,
      "outputs": [
        {
          "output_type": "stream",
          "name": "stdout",
          "text": [
            "Requirement already satisfied: pymongo[srv] in /usr/local/lib/python3.7/dist-packages (4.0.1)\n",
            "Requirement already satisfied: dnspython<3.0.0,>=1.16.0 in /usr/local/lib/python3.7/dist-packages (from pymongo[srv]) (2.2.0)\n"
          ]
        }
      ]
    },
    {
      "cell_type": "markdown",
      "source": [
        "ATENCION: reiniciar entorno de ejecución"
      ],
      "metadata": {
        "id": "g3dBGdk2X39u"
      }
    },
    {
      "cell_type": "code",
      "source": [
        "from getpass import getpass\n",
        "import pprint\n",
        "import matplotlib.pyplot as plt\n",
        "from pymongo import MongoClient\n",
        "from urllib.parse import quote_plus\n",
        "import pandas as pd\n",
        "import json\n",
        "from datetime import datetime\n",
        "import random\n",
        "import seaborn as sns\n",
        "import folium \n",
        "import warnings\n",
        "warnings.filterwarnings('ignore')\n",
        "\n",
        "%matplotlib inline\n",
        "sns.set_theme(style=\"whitegrid\")\n",
        "sns.set(rc={'figure.figsize':(20,7)})\n",
        "plt.style.use('seaborn-whitegrid')"
      ],
      "metadata": {
        "id": "I2_xoIxi2Nuz"
      },
      "execution_count": 78,
      "outputs": []
    },
    {
      "cell_type": "markdown",
      "source": [
        "# Level 1"
      ],
      "metadata": {
        "id": "ASzKMCBrxw6C"
      }
    },
    {
      "cell_type": "markdown",
      "metadata": {
        "id": "LqkBxTqIhmBZ"
      },
      "source": [
        "##  Exercise 1: \n",
        "  - Create a NoSQL database using MongoDB. Add some sample data to help you verify that you are able to process the information in a basic way."
      ]
    },
    {
      "cell_type": "markdown",
      "source": [
        "![00_questions](https://github.com/leobioinf0/Base_de_dades_NoSQL/blob/main/00_questions.png?raw=true)"
      ],
      "metadata": {
        "id": "zM0pE0B1n833"
      }
    },
    {
      "cell_type": "markdown",
      "source": [
        "![01_free_account](https://github.com/leobioinf0/Base_de_dades_NoSQL/blob/main/01_free_account.png?raw=true)"
      ],
      "metadata": {
        "id": "fUET5TQcoHm4"
      }
    },
    {
      "cell_type": "markdown",
      "source": [
        "![02_providerAndMirror](https://github.com/leobioinf0/Base_de_dades_NoSQL/blob/main/02_providerAndMirror.png?raw=true)"
      ],
      "metadata": {
        "id": "8xgNcjWwoOIB"
      }
    },
    {
      "cell_type": "markdown",
      "source": [
        "![03_clusterName](https://github.com/leobioinf0/Base_de_dades_NoSQL/blob/main/03_clusterName.png?raw=true)"
      ],
      "metadata": {
        "id": "bUtcmxdBoOfd"
      }
    },
    {
      "cell_type": "markdown",
      "source": [
        "### See my IP address\n",
        "\n",
        "See my IP address to add it to the list of IPs allowed by my MongoDB project"
      ],
      "metadata": {
        "id": "29MnhwXWpCkR"
      }
    },
    {
      "cell_type": "code",
      "source": [
        "!curl ipecho.net/plain"
      ],
      "metadata": {
        "colab": {
          "base_uri": "https://localhost:8080/"
        },
        "outputId": "446812dc-26c0-425c-b569-2219ee6d27bf",
        "id": "gluWmA3ppCkS"
      },
      "execution_count": null,
      "outputs": [
        {
          "output_type": "stream",
          "name": "stdout",
          "text": [
            "34.125.158.33"
          ]
        }
      ]
    },
    {
      "cell_type": "markdown",
      "source": [
        "![04_accesConf](https://github.com/leobioinf0/Base_de_dades_NoSQL/blob/main/04_accesConf.png?raw=true)"
      ],
      "metadata": {
        "id": "4qjQIshJoQKB"
      }
    },
    {
      "cell_type": "markdown",
      "source": [
        "![05_createdCluster](https://github.com/leobioinf0/Base_de_dades_NoSQL/blob/main/05_createdCluster.png?raw=true)"
      ],
      "metadata": {
        "id": "t38g1oQpoQop"
      }
    },
    {
      "cell_type": "markdown",
      "source": [
        "![06_addCollection](https://github.com/leobioinf0/Base_de_dades_NoSQL/blob/main/06_addCollection.png?raw=true)"
      ],
      "metadata": {
        "id": "RwSo50o6oQ9x"
      }
    },
    {
      "cell_type": "markdown",
      "source": [
        "![07_createDbAndColl](https://github.com/leobioinf0/Base_de_dades_NoSQL/blob/main/07_createDbAndColl.png?raw=true)"
      ],
      "metadata": {
        "id": "MlH0Hg-PoROY"
      }
    },
    {
      "cell_type": "markdown",
      "source": [
        "![08_createdDbAndColl](https://github.com/leobioinf0/Base_de_dades_NoSQL/blob/main/08_createdDbAndColl.png?raw=true)"
      ],
      "metadata": {
        "id": "8Q7tBs8EoRe9"
      }
    },
    {
      "cell_type": "markdown",
      "source": [
        "![09_clusterConnectionSetup](https://github.com/leobioinf0/Base_de_dades_NoSQL/blob/main/09_clusterConnectionSetup.png?raw=true)"
      ],
      "metadata": {
        "id": "Jf8MKlOioRuP"
      }
    },
    {
      "cell_type": "markdown",
      "source": [
        "### See my python version\n",
        "\n",
        "See my python version to set up the connection method"
      ],
      "metadata": {
        "id": "DkZA5KnJiIQ-"
      }
    },
    {
      "cell_type": "code",
      "source": [
        "!python -V"
      ],
      "metadata": {
        "colab": {
          "base_uri": "https://localhost:8080/"
        },
        "id": "MEir04oEiRgm",
        "outputId": "24aa9750-c6cb-4265-e599-1285ebc08e96"
      },
      "execution_count": null,
      "outputs": [
        {
          "output_type": "stream",
          "name": "stdout",
          "text": [
            "Python 3.7.12\n"
          ]
        }
      ]
    },
    {
      "cell_type": "markdown",
      "source": [
        "![10_clusterConnectionMethod](https://github.com/leobioinf0/Base_de_dades_NoSQL/blob/main/10_clusterConnectionMethod.png?raw=true)"
      ],
      "metadata": {
        "id": "ZOF-5aB7oSAK"
      }
    },
    {
      "cell_type": "markdown",
      "metadata": {
        "id": "NTLRhtwrFCW_"
      },
      "source": [
        "## Exercise 2: \n",
        "  - Connect the NoSQL database to Python using for example pymongo."
      ]
    },
    {
      "cell_type": "markdown",
      "source": [
        "### See my IP address\n",
        "\n",
        "See my IP address to add it to the list of IPs allowed by my MongoDB project"
      ],
      "metadata": {
        "id": "TV6s0TN0aB0f"
      }
    },
    {
      "cell_type": "code",
      "source": [
        "!curl ipecho.net/plain"
      ],
      "metadata": {
        "colab": {
          "base_uri": "https://localhost:8080/"
        },
        "id": "7VV7ii4LPdpq",
        "outputId": "31f1bd66-7657-46fb-e2d8-cf12a5c09aa4"
      },
      "execution_count": null,
      "outputs": [
        {
          "output_type": "stream",
          "name": "stdout",
          "text": [
            "34.125.158.33"
          ]
        }
      ]
    },
    {
      "cell_type": "markdown",
      "source": [
        "Add the IP to the [list](https://cloud.mongodb.com/v2/6213b20843d3e75ba8b16a5c#security/network/accessList)."
      ],
      "metadata": {
        "id": "D44E_74NaBQl"
      }
    },
    {
      "cell_type": "markdown",
      "source": [
        "![add_ip_adress](https://github.com/leobioinf0/Base_de_dades_NoSQL/blob/main/11_addIpAdress.png?raw=true)"
      ],
      "metadata": {
        "id": "y0u-6TIiWMMk"
      }
    },
    {
      "cell_type": "markdown",
      "source": [
        "Another option is to include the ip 0.0.0.0 which refers to open to all"
      ],
      "metadata": {
        "id": "2Rm9DJQXBUrA"
      }
    },
    {
      "cell_type": "markdown",
      "source": [
        "### MongoDb Connection"
      ],
      "metadata": {
        "id": "dvjEY5dBy5dm"
      }
    },
    {
      "cell_type": "code",
      "source": [
        "password= getpass(\"Enter mongodb password: \")"
      ],
      "metadata": {
        "colab": {
          "base_uri": "https://localhost:8080/"
        },
        "id": "9aQwXU1S2nZm",
        "outputId": "e7d6102b-64f9-4305-8f9a-524e4eca6396"
      },
      "execution_count": 79,
      "outputs": [
        {
          "name": "stdout",
          "output_type": "stream",
          "text": [
            "Enter mongodb password: ··········\n"
          ]
        }
      ]
    },
    {
      "cell_type": "code",
      "source": [
        "uri = 'mongodb+srv://{}:{}@{}.uzieq.mongodb.net/'.format('leobioinfo',password,'Cluster0')\n",
        "try:\n",
        "    client = MongoClient(uri)\n",
        "except Exception:\n",
        "    print(\"Unable to connect to the server.\")"
      ],
      "metadata": {
        "id": "Rb98pZjjirec"
      },
      "execution_count": 80,
      "outputs": []
    },
    {
      "cell_type": "markdown",
      "source": [
        "### Databases list"
      ],
      "metadata": {
        "id": "ajaW8F90y5dm"
      }
    },
    {
      "cell_type": "code",
      "execution_count": null,
      "source": [
        "client.list_database_names()"
      ],
      "outputs": [
        {
          "output_type": "execute_result",
          "data": {
            "text/plain": [
              "['BICING_ESTACIONS', 'organisation', 'admin', 'local']"
            ]
          },
          "metadata": {},
          "execution_count": 18
        }
      ],
      "metadata": {
        "id": "peWYuqGNy5dn",
        "outputId": "d0e5a84f-d74b-4c97-e358-68547143cfcc",
        "colab": {
          "base_uri": "https://localhost:8080/"
        }
      }
    },
    {
      "cell_type": "markdown",
      "source": [
        "### Collections List"
      ],
      "metadata": {
        "id": "hQpZNyIIl4VV"
      }
    },
    {
      "cell_type": "code",
      "source": [
        "for database in [client.BICING_ESTACIONS, client.organisation]:\n",
        "    print(\"Database: {}\\n Collections: {}\".format(database.name, database.list_collection_names()))"
      ],
      "metadata": {
        "colab": {
          "base_uri": "https://localhost:8080/"
        },
        "id": "ez3b89Q_gbHJ",
        "outputId": "5d6061a9-6ec8-4f55-c422-efe0570f491c"
      },
      "execution_count": null,
      "outputs": [
        {
          "output_type": "stream",
          "name": "stdout",
          "text": [
            "Database: BICING_ESTACIONS\n",
            " Collections: ['December_2018']\n",
            "Database: organisation\n",
            " Collections: ['friends', 'adressbook']\n"
          ]
        }
      ]
    },
    {
      "cell_type": "markdown",
      "source": [
        "### Select Database to work"
      ],
      "metadata": {
        "id": "bXdZK5yYy5dn"
      }
    },
    {
      "cell_type": "code",
      "source": [
        "db = client.organisation"
      ],
      "metadata": {
        "id": "GrAUlBnFw6u5"
      },
      "execution_count": null,
      "outputs": []
    },
    {
      "cell_type": "markdown",
      "source": [
        "### Collections List"
      ],
      "metadata": {
        "id": "BlGTlVqpy5dn"
      }
    },
    {
      "cell_type": "code",
      "execution_count": null,
      "source": [
        "db.list_collection_names()"
      ],
      "outputs": [
        {
          "output_type": "execute_result",
          "data": {
            "text/plain": [
              "['friends']"
            ]
          },
          "metadata": {},
          "execution_count": 23
        }
      ],
      "metadata": {
        "id": "1sU_Vmddy5do",
        "outputId": "7158d72a-e297-4431-99bc-3b49d2b72abc",
        "colab": {
          "base_uri": "https://localhost:8080/"
        }
      }
    },
    {
      "cell_type": "markdown",
      "source": [
        "### Create a new collection."
      ],
      "metadata": {
        "id": "X3Y9Q9CBy5do"
      }
    },
    {
      "cell_type": "code",
      "source": [
        "db.create_collection('adressbook')"
      ],
      "metadata": {
        "id": "oq3QHTMz39YI",
        "colab": {
          "base_uri": "https://localhost:8080/"
        },
        "outputId": "2ac2e0fe-8c5a-4b51-a6a9-32d5a1ea6e04"
      },
      "execution_count": null,
      "outputs": [
        {
          "output_type": "execute_result",
          "data": {
            "text/plain": [
              "Collection(Database(MongoClient(host=['cluster0-shard-00-02.uzieq.mongodb.net:27017', 'cluster0-shard-00-01.uzieq.mongodb.net:27017', 'cluster0-shard-00-00.uzieq.mongodb.net:27017'], document_class=dict, tz_aware=False, connect=True, authsource='admin', replicaset='atlas-jenwfi-shard-0', tls=True), 'organisation'), 'adressbook')"
            ]
          },
          "metadata": {},
          "execution_count": 24
        }
      ]
    },
    {
      "cell_type": "markdown",
      "source": [
        "### Collections List"
      ],
      "metadata": {
        "id": "O8aLSO75lN8C"
      }
    },
    {
      "cell_type": "code",
      "source": [
        "db.list_collection_names()"
      ],
      "metadata": {
        "colab": {
          "base_uri": "https://localhost:8080/"
        },
        "id": "T09cOlwC0kjH",
        "outputId": "d15a874e-6c25-4ff5-dca3-f0e1e4c59c9f"
      },
      "execution_count": null,
      "outputs": [
        {
          "output_type": "execute_result",
          "data": {
            "text/plain": [
              "['friends', 'adressbook']"
            ]
          },
          "metadata": {},
          "execution_count": 25
        }
      ]
    },
    {
      "cell_type": "markdown",
      "source": [
        "### Set the collection to work with"
      ],
      "metadata": {
        "id": "J011EeSulRqi"
      }
    },
    {
      "cell_type": "code",
      "source": [
        "mycol = db.adressbook"
      ],
      "metadata": {
        "id": "gAWJy87q1WiY"
      },
      "execution_count": null,
      "outputs": []
    },
    {
      "cell_type": "markdown",
      "metadata": {
        "id": "oseJcRsuCr62"
      },
      "source": [
        "### Create a document with:  insert_one()"
      ]
    },
    {
      "cell_type": "markdown",
      "source": [
        "#### Document to insert"
      ],
      "metadata": {
        "id": "FJFmSyc1JFdm"
      }
    },
    {
      "cell_type": "code",
      "metadata": {
        "id": "PWDCx-V20Quk"
      },
      "source": [
        "docu = {  'name' : \"Leonardo\",                              # String \n",
        "          'age' : 39,                                       # Integer\n",
        "          'gender' : \"Male\",                                # String \n",
        "          'uses_python' : True,                             # Boolean\n",
        "          'address': {\n",
        "              'street' : \"Carrer de la Cera\",               # String\n",
        "              'number' : 70,                                # Integer\n",
        "              'city' : \"Barcelona\",                         # String \n",
        "              'floor' : None,                               # Null \n",
        "              'postalcode' : \"08001\",                       # String\n",
        "              },\n",
        "          'codingLanguages': ['Python', 'R', 'Arduino (C++)', 'PHP', 'Perl'] # Array        \n",
        "       }\n"
      ],
      "execution_count": null,
      "outputs": []
    },
    {
      "cell_type": "markdown",
      "source": [
        "#### Insert one"
      ],
      "metadata": {
        "id": "WTuokvlEJNVg"
      }
    },
    {
      "cell_type": "code",
      "source": [
        "insert_one_result = mycol.insert_one(docu)"
      ],
      "metadata": {
        "id": "_I-237SH9DdF"
      },
      "execution_count": null,
      "outputs": []
    },
    {
      "cell_type": "markdown",
      "source": [
        "#### Confirms that insert is successful"
      ],
      "metadata": {
        "id": "nppoYEf6JS4s"
      }
    },
    {
      "cell_type": "code",
      "metadata": {
        "id": "BpNu_5ic6J1m",
        "outputId": "38a0e2f4-83e4-44f2-a7c4-fd2b0effe447",
        "colab": {
          "base_uri": "https://localhost:8080/"
        }
      },
      "source": [
        "insert_one_result.acknowledged"
      ],
      "execution_count": null,
      "outputs": [
        {
          "output_type": "execute_result",
          "data": {
            "text/plain": [
              "True"
            ]
          },
          "metadata": {},
          "execution_count": 29
        }
      ]
    },
    {
      "cell_type": "markdown",
      "source": [
        "#### Shows the document ID "
      ],
      "metadata": {
        "id": "3ZFYYa3AJZiJ"
      }
    },
    {
      "cell_type": "code",
      "metadata": {
        "id": "gg370PIV6UZa",
        "outputId": "5d1afbd7-6826-4d31-a9e4-d7102f19914d",
        "colab": {
          "base_uri": "https://localhost:8080/"
        }
      },
      "source": [
        "insert_one_result.inserted_id "
      ],
      "execution_count": null,
      "outputs": [
        {
          "output_type": "execute_result",
          "data": {
            "text/plain": [
              "ObjectId('621733138088a82443ae8bfe')"
            ]
          },
          "metadata": {},
          "execution_count": 30
        }
      ]
    },
    {
      "cell_type": "markdown",
      "source": [
        "#### Shows the document "
      ],
      "metadata": {
        "id": "_0Ruq34iJd2P"
      }
    },
    {
      "cell_type": "code",
      "source": [
        "pprint.pprint(list(mycol.find()))"
      ],
      "metadata": {
        "colab": {
          "base_uri": "https://localhost:8080/"
        },
        "id": "HnnrSbgkIPI5",
        "outputId": "9eedba17-e906-4e9d-d976-30cc7cc72a8e"
      },
      "execution_count": null,
      "outputs": [
        {
          "output_type": "stream",
          "name": "stdout",
          "text": [
            "[{'_id': ObjectId('621733138088a82443ae8bfe'),\n",
            "  'address': {'city': 'Barcelona',\n",
            "              'floor': None,\n",
            "              'number': 70,\n",
            "              'postalcode': '08001',\n",
            "              'street': 'Carrer de la Cera'},\n",
            "  'age': 39,\n",
            "  'codingLanguages': ['Python', 'R', 'Arduino (C++)', 'PHP', 'Perl'],\n",
            "  'gender': 'Male',\n",
            "  'name': 'Leonardo',\n",
            "  'uses_python': True}]\n"
          ]
        }
      ]
    },
    {
      "cell_type": "markdown",
      "metadata": {
        "id": "YSJDpMR8JjY_"
      },
      "source": [
        "### Create many documents with:  insert_many()"
      ]
    },
    {
      "cell_type": "markdown",
      "source": [
        "#### Documents to insert"
      ],
      "metadata": {
        "id": "F_LMMEV0Js4y"
      }
    },
    {
      "cell_type": "code",
      "source": [
        "docu01 = {\n",
        "    'name': 'ricardojaume',\n",
        "    'age': 35,\n",
        "    'gender': 'Male',\n",
        "    'uses_python': True,\n",
        "    'codingLanguages': ['Python', 'BASIC', 'C++', 'C', 'COBOL', 'JavaScript',\n",
        "                        'Bash', 'AWK', 'RegEx', 'Processing', 'SQL'],\n",
        "    'address': {'city': 'Barcelona',\n",
        "                'street': 'Gran Vía de les Corts Catalanes',\n",
        "                'number': 7,\n",
        "                'floor': 2,\n",
        "                'postalcode': '08002'}\n",
        "          }\n",
        "\n",
        "docu02 = {\n",
        "    'name': 'Javier Alfonso',\n",
        "    'age': 30,\n",
        "    'gender': 'Male',\n",
        "    'uses_python': True,\n",
        "    'codingLanguages': ['Python', 'C#', 'Fortran', 'Go', 'Haskell', 'Julia',\n",
        "                        'HTML', 'CSS', 'JavaScript', 'LaTeX', 'Markdown'],\n",
        "    'address': {'city': 'Barcelona',\n",
        "                'street': 'Avinguda Diagonal',\n",
        "                'number': 12,\n",
        "                'floor': 3,\n",
        "                'postalcode': '08002'}\n",
        "          }\n",
        "\n",
        "docu03 = {\n",
        "    'name': 'Adria Garcia',\n",
        "    'age': 29,\n",
        "    'gender': 'Male',\n",
        "    'uses_python': True,\n",
        "    'codingLanguages': ['Python', 'Kotlin', 'Pascal', 'Scala', 'Swift', 'Visual Basic'],\n",
        "    'address': {'city': 'Barcelona',\n",
        "                'street': 'Calle Blai',\n",
        "                'number': None,\n",
        "                'floor': 3,\n",
        "                'postalcode': '08001'}\n",
        "          }\n",
        "\n",
        "docu04 = {\n",
        "    'name': 'Adrià Nova',\n",
        "    'age': 25,\n",
        "    'gender': 'Male',\n",
        "    'uses_python': True,\n",
        "    'codingLanguages': ['Python', 'bash', 'DOS batch language', 'sh', 'Brainfuck'],\n",
        "    'address': {'city': 'Barcelona',\n",
        "                'street': 'Calle Petritxol',\n",
        "                'number': 300,\n",
        "                'floor': None,\n",
        "                'postalcode': '08002'}\n",
        "          }\n",
        "\n",
        "docu05 = {\n",
        "    'name': 'JoanB',\n",
        "    'age': 40,\n",
        "    'gender': 'Male',\n",
        "    'uses_python': False,\n",
        "    'codingLanguages': ['AWK', 'Perl', 'PHP', 'R', 'sed'],\n",
        "    'address': {'city': 'Barcelona',\n",
        "                'street': 'Paseo de Gracia',\n",
        "                'number': 65,\n",
        "                'floor': 3,\n",
        "                'postalcode': '08004'}\n",
        "          }\n",
        "docu06 = {\n",
        "    'name': 'Patricia Tudela',\n",
        "    'age': 27,\n",
        "    'gender': 'Female',\n",
        "    'uses_python': False,\n",
        "    'codingLanguages': ['Ruby', 'Logo', 'Scratch', 'R', 'sed'],\n",
        "    'address': {'city': 'Barcelona',\n",
        "                'street': 'Rambla del Raval',\n",
        "                'number': None,\n",
        "                'floor': None,\n",
        "                'postalcode': '08003'}\n",
        "          }"
      ],
      "metadata": {
        "id": "VfTOFrlLA0pX"
      },
      "execution_count": null,
      "outputs": []
    },
    {
      "cell_type": "markdown",
      "source": [
        "#### Insert many"
      ],
      "metadata": {
        "id": "C7DpBfIMJyYN"
      }
    },
    {
      "cell_type": "code",
      "source": [
        "insert_many_result = mycol.insert_many([docu01, docu02, docu03, docu04, docu05, docu06])"
      ],
      "metadata": {
        "id": "7wWfr2XGHB0x"
      },
      "execution_count": null,
      "outputs": []
    },
    {
      "cell_type": "markdown",
      "source": [
        "#### Confirms that insert is successful"
      ],
      "metadata": {
        "id": "On_3nJqGJ5Kx"
      }
    },
    {
      "cell_type": "code",
      "metadata": {
        "outputId": "e756142f-2b21-4fe9-86f6-35ce0efa90d9",
        "colab": {
          "base_uri": "https://localhost:8080/"
        },
        "id": "IOz5ULZ0HV5V"
      },
      "source": [
        "insert_many_result.acknowledged    # Confirms that insert is successful"
      ],
      "execution_count": null,
      "outputs": [
        {
          "output_type": "execute_result",
          "data": {
            "text/plain": [
              "True"
            ]
          },
          "metadata": {},
          "execution_count": 34
        }
      ]
    },
    {
      "cell_type": "markdown",
      "source": [
        "#### Shows the documents ID "
      ],
      "metadata": {
        "id": "A-vq00rhJ-fA"
      }
    },
    {
      "cell_type": "code",
      "metadata": {
        "outputId": "77f19599-2641-4390-c453-e4b0d91b54a4",
        "colab": {
          "base_uri": "https://localhost:8080/"
        },
        "id": "N9wzYj9SHV5W"
      },
      "source": [
        "insert_many_result.inserted_ids     # Shows the document ID "
      ],
      "execution_count": null,
      "outputs": [
        {
          "output_type": "execute_result",
          "data": {
            "text/plain": [
              "[ObjectId('621733138088a82443ae8bff'),\n",
              " ObjectId('621733138088a82443ae8c00'),\n",
              " ObjectId('621733138088a82443ae8c01'),\n",
              " ObjectId('621733138088a82443ae8c02'),\n",
              " ObjectId('621733138088a82443ae8c03'),\n",
              " ObjectId('621733138088a82443ae8c04')]"
            ]
          },
          "metadata": {},
          "execution_count": 35
        }
      ]
    },
    {
      "cell_type": "markdown",
      "source": [
        "#### Shows all documents"
      ],
      "metadata": {
        "id": "7fDK2MhgKDfx"
      }
    },
    {
      "cell_type": "code",
      "source": [
        "pprint.pprint(list(mycol.find()))"
      ],
      "metadata": {
        "colab": {
          "base_uri": "https://localhost:8080/"
        },
        "id": "OLfRuS2ZIUWh",
        "outputId": "ac649cd3-60b8-4bbe-eb44-ad63e58d0581"
      },
      "execution_count": null,
      "outputs": [
        {
          "output_type": "stream",
          "name": "stdout",
          "text": [
            "[{'_id': ObjectId('621733138088a82443ae8bfe'),\n",
            "  'address': {'city': 'Barcelona',\n",
            "              'floor': None,\n",
            "              'number': 70,\n",
            "              'postalcode': '08001',\n",
            "              'street': 'Carrer de la Cera'},\n",
            "  'age': 39,\n",
            "  'codingLanguages': ['Python', 'R', 'Arduino (C++)', 'PHP', 'Perl'],\n",
            "  'gender': 'Male',\n",
            "  'name': 'Leonardo',\n",
            "  'uses_python': True},\n",
            " {'_id': ObjectId('621733138088a82443ae8bff'),\n",
            "  'address': {'city': 'Barcelona',\n",
            "              'floor': 2,\n",
            "              'number': 7,\n",
            "              'postalcode': '08002',\n",
            "              'street': 'Gran Vía de les Corts Catalanes'},\n",
            "  'age': 35,\n",
            "  'codingLanguages': ['Python',\n",
            "                      'BASIC',\n",
            "                      'C++',\n",
            "                      'C',\n",
            "                      'COBOL',\n",
            "                      'JavaScript',\n",
            "                      'Bash',\n",
            "                      'AWK',\n",
            "                      'RegEx',\n",
            "                      'Processing',\n",
            "                      'SQL'],\n",
            "  'gender': 'Male',\n",
            "  'name': 'ricardojaume',\n",
            "  'uses_python': True},\n",
            " {'_id': ObjectId('621733138088a82443ae8c00'),\n",
            "  'address': {'city': 'Barcelona',\n",
            "              'floor': 3,\n",
            "              'number': 12,\n",
            "              'postalcode': '08002',\n",
            "              'street': 'Avinguda Diagonal'},\n",
            "  'age': 30,\n",
            "  'codingLanguages': ['Python',\n",
            "                      'C#',\n",
            "                      'Fortran',\n",
            "                      'Go',\n",
            "                      'Haskell',\n",
            "                      'Julia',\n",
            "                      'HTML',\n",
            "                      'CSS',\n",
            "                      'JavaScript',\n",
            "                      'LaTeX',\n",
            "                      'Markdown'],\n",
            "  'gender': 'Male',\n",
            "  'name': 'Javier Alfonso',\n",
            "  'uses_python': True},\n",
            " {'_id': ObjectId('621733138088a82443ae8c01'),\n",
            "  'address': {'city': 'Barcelona',\n",
            "              'floor': 3,\n",
            "              'number': None,\n",
            "              'postalcode': '08001',\n",
            "              'street': 'Calle Blai'},\n",
            "  'age': 29,\n",
            "  'codingLanguages': ['Python',\n",
            "                      'Kotlin',\n",
            "                      'Pascal',\n",
            "                      'Scala',\n",
            "                      'Swift',\n",
            "                      'Visual Basic'],\n",
            "  'gender': 'Male',\n",
            "  'name': 'Adria Garcia',\n",
            "  'uses_python': True},\n",
            " {'_id': ObjectId('621733138088a82443ae8c02'),\n",
            "  'address': {'city': 'Barcelona',\n",
            "              'floor': None,\n",
            "              'number': 300,\n",
            "              'postalcode': '08002',\n",
            "              'street': 'Calle Petritxol'},\n",
            "  'age': 25,\n",
            "  'codingLanguages': ['Python',\n",
            "                      'bash',\n",
            "                      'DOS batch language',\n",
            "                      'sh',\n",
            "                      'Brainfuck'],\n",
            "  'gender': 'Male',\n",
            "  'name': 'Adrià Nova',\n",
            "  'uses_python': True},\n",
            " {'_id': ObjectId('621733138088a82443ae8c03'),\n",
            "  'address': {'city': 'Barcelona',\n",
            "              'floor': 3,\n",
            "              'number': 65,\n",
            "              'postalcode': '08004',\n",
            "              'street': 'Paseo de Gracia'},\n",
            "  'age': 40,\n",
            "  'codingLanguages': ['AWK', 'Perl', 'PHP', 'R', 'sed'],\n",
            "  'gender': 'Male',\n",
            "  'name': 'JoanB',\n",
            "  'uses_python': False},\n",
            " {'_id': ObjectId('621733138088a82443ae8c04'),\n",
            "  'address': {'city': 'Barcelona',\n",
            "              'floor': None,\n",
            "              'number': None,\n",
            "              'postalcode': '08003',\n",
            "              'street': 'Rambla del Raval'},\n",
            "  'age': 27,\n",
            "  'codingLanguages': ['Ruby', 'Logo', 'Scratch', 'R', 'sed'],\n",
            "  'gender': 'Female',\n",
            "  'name': 'Patricia Tudela',\n",
            "  'uses_python': False}]\n"
          ]
        }
      ]
    },
    {
      "cell_type": "markdown",
      "source": [
        "### Form to add new documents to the collection"
      ],
      "metadata": {
        "id": "h4LjQAwtZ3av"
      }
    },
    {
      "cell_type": "code",
      "metadata": {
        "id": "y5TvGradhcu6"
      },
      "source": [
        "#@title Contact { display-mode: \"form\" }\n",
        "\n",
        "Name = \"Joan Clarke\" #@param {type:\"string\"}\n",
        "Age = 39 #@param {type:\"slider\", min:1, max:80, step:1}\n",
        "Gender = \"Female\" #@param [\"Male\", \"Female\"]\n",
        "Uses_python = \"No\" #@param [\"Yes\", \"No\"]\n",
        "if Uses_python is \"Yes\":\n",
        "  Uses_python = True\n",
        "else:\n",
        "  Uses_python = False\n",
        "\n",
        "#@markdown Address\n",
        "Street = \"Bletchley Park\" #@param {type:\"string\"}\n",
        "Number =  11#@param {type:\"integer\"}\n",
        "Floor =  13#@param {type:\"integer\"}\n",
        "City = 'Bletchley' #@param ['Madrid', 'Barcelona', 'Valencia', 'Sevilla', 'Zaragoza', 'Málaga', 'Murcia', 'Palma', 'Bilbao', 'Alicante', 'Córdoba', 'Valladolid', 'Vitoria', 'Granada', 'Oviedo', 'Santa', 'Pamplona', 'Almería', 'Burgos', 'Albacete', 'Santander', 'Castellón', 'Logroño', 'Badajoz', 'Salamanca', 'Huelva', 'Lérida', 'Tarragona', 'León', 'Cádiz', 'Jaén', 'Orense', 'Gerona', 'Lugo', 'Cáceres', 'Melilla', 'Guadalajara', 'Toledo', 'Ceuta', 'Pontevedra', 'Palencia', 'Zamora', 'Ávila', 'Cuenca', 'Huesca', 'Segovia', 'Soria', 'Teruel']{allow-input: true}\n",
        "PostalCode = \"00116\" #@param {type:\"string\"}\n",
        "\n",
        "#@markdown Other Coding Languages \n",
        "AWK = False #@param {type:\"boolean\"}\n",
        "Arduino = True #@param {type:\"boolean\"}\n",
        "BASIC = True #@param {type:\"boolean\"}\n",
        "Bash = False #@param {type:\"boolean\"}\n",
        "Brainfuck = False #@param {type:\"boolean\"}\n",
        "C = False #@param {type:\"boolean\"}\n",
        "Csharp = False #@param {type:\"boolean\"}\n",
        "Cpp = False #@param {type:\"boolean\"}\n",
        "COBOL = False #@param {type:\"boolean\"}\n",
        "CSS = False #@param {type:\"boolean\"}\n",
        "DOS = False #@param {type:\"boolean\"}\n",
        "Fortran = True #@param {type:\"boolean\"}\n",
        "\n",
        "\n",
        "list_a = ['AWK', 'Arduino', 'BASIC', 'Bash', 'Brainfuck', 'C', 'C#', 'C++', 'COBOL', 'CSS', 'DOS batch language', 'Fortran']\n",
        "filter = [AWK, Arduino, BASIC, Bash, Brainfuck, C, Csharp, Cpp, COBOL, CSS, DOS, Fortran]\n",
        "CodingLanguages = [i for indx,i in enumerate(list_a) if filter[indx] == True]"
      ],
      "execution_count": null,
      "outputs": []
    },
    {
      "cell_type": "markdown",
      "source": [
        "#### Insert the document containing the data collected in the form"
      ],
      "metadata": {
        "id": "gdAWSatkKYYu"
      }
    },
    {
      "cell_type": "code",
      "source": [
        "docu00 = {\n",
        "    'name': Name,\n",
        "    'age': Age,\n",
        "    'gender': Gender,\n",
        "    'uses_python': Uses_python,\n",
        "    'codingLanguages': CodingLanguages,\n",
        "    'address': {'city': City,\n",
        "                'street': Street,\n",
        "                'number': Number,\n",
        "                'floor': Floor,\n",
        "                'postalcode': PostalCode}\n",
        "          }\n",
        "\n",
        "insert_one_result = mycol.insert_one(docu00)\n",
        "pprint.pprint(list(mycol.find({'name': Name})))"
      ],
      "metadata": {
        "colab": {
          "base_uri": "https://localhost:8080/"
        },
        "id": "XNrla2XE0xt4",
        "outputId": "818c4ffb-c554-48d8-9b11-c193a66f5c78"
      },
      "execution_count": null,
      "outputs": [
        {
          "output_type": "stream",
          "name": "stdout",
          "text": [
            "[{'_id': ObjectId('621733138088a82443ae8c05'),\n",
            "  'address': {'city': 'Bletchley',\n",
            "              'floor': 13,\n",
            "              'number': 11,\n",
            "              'postalcode': '00116',\n",
            "              'street': 'Bletchley Park'},\n",
            "  'age': 39,\n",
            "  'codingLanguages': ['Arduino', 'BASIC', 'Fortran'],\n",
            "  'gender': 'Female',\n",
            "  'name': 'Joan Clarke',\n",
            "  'uses_python': False}]\n"
          ]
        }
      ]
    },
    {
      "cell_type": "markdown",
      "source": [
        "#### Counts the documents in database"
      ],
      "metadata": {
        "id": "adG-EuhBLOVS"
      }
    },
    {
      "cell_type": "code",
      "source": [
        "mycol.count_documents({'_id' : {'$exists' : 1}})"
      ],
      "metadata": {
        "colab": {
          "base_uri": "https://localhost:8080/"
        },
        "id": "6xdLo_igtF_b",
        "outputId": "90863863-7630-45de-d798-7bf14823a643"
      },
      "execution_count": null,
      "outputs": [
        {
          "output_type": "execute_result",
          "data": {
            "text/plain": [
              "8"
            ]
          },
          "metadata": {},
          "execution_count": 39
        }
      ]
    },
    {
      "cell_type": "markdown",
      "source": [
        "#### list the unique values of 'age'"
      ],
      "metadata": {
        "id": "TMD4TcKkLTLo"
      }
    },
    {
      "cell_type": "code",
      "source": [
        "list(mycol.distinct('age')) "
      ],
      "metadata": {
        "colab": {
          "base_uri": "https://localhost:8080/"
        },
        "id": "5AVm1WxStuwl",
        "outputId": "c7020314-befd-4fab-cf63-bedea313661b"
      },
      "execution_count": null,
      "outputs": [
        {
          "output_type": "execute_result",
          "data": {
            "text/plain": [
              "[25, 27, 29, 30, 35, 39, 40]"
            ]
          },
          "metadata": {},
          "execution_count": 40
        }
      ]
    },
    {
      "cell_type": "markdown",
      "source": [
        "# Level 2"
      ],
      "metadata": {
        "id": "s196Y6w1yPG3"
      }
    },
    {
      "cell_type": "markdown",
      "metadata": {
        "id": "VyaMk9t6yNQf"
      },
      "source": [
        "##  Exercise 1: \n",
        "  - Load some simple queries to a Pandas Dataframe."
      ]
    },
    {
      "cell_type": "markdown",
      "metadata": {
        "id": "kNDxZI2wMFkg"
      },
      "source": [
        "#### Get average age of python users and non users"
      ]
    },
    {
      "cell_type": "code",
      "source": [
        "query = list( mycol.aggregate([{\"$group\" : {\"_id\" : \"$uses_python\",\"avgAge\": { \"$avg\": \"$age\" }}}]))\n",
        "df = pd.DataFrame(query)\n",
        "df.rename(columns={\"_id\": \"Uses python\", \"avgAge\": \"avg Age\"}, inplace=True)\n",
        "df"
      ],
      "metadata": {
        "colab": {
          "base_uri": "https://localhost:8080/",
          "height": 112
        },
        "id": "wyG8DJveM8-n",
        "outputId": "28fb5300-619e-4a79-9280-3661ba958e2f"
      },
      "execution_count": null,
      "outputs": [
        {
          "output_type": "execute_result",
          "data": {
            "text/html": [
              "\n",
              "  <div id=\"df-53866970-caaa-40e7-845a-f83d498e14a6\">\n",
              "    <div class=\"colab-df-container\">\n",
              "      <div>\n",
              "<style scoped>\n",
              "    .dataframe tbody tr th:only-of-type {\n",
              "        vertical-align: middle;\n",
              "    }\n",
              "\n",
              "    .dataframe tbody tr th {\n",
              "        vertical-align: top;\n",
              "    }\n",
              "\n",
              "    .dataframe thead th {\n",
              "        text-align: right;\n",
              "    }\n",
              "</style>\n",
              "<table border=\"1\" class=\"dataframe\">\n",
              "  <thead>\n",
              "    <tr style=\"text-align: right;\">\n",
              "      <th></th>\n",
              "      <th>Uses python</th>\n",
              "      <th>avg Age</th>\n",
              "    </tr>\n",
              "  </thead>\n",
              "  <tbody>\n",
              "    <tr>\n",
              "      <th>0</th>\n",
              "      <td>True</td>\n",
              "      <td>31.600000</td>\n",
              "    </tr>\n",
              "    <tr>\n",
              "      <th>1</th>\n",
              "      <td>False</td>\n",
              "      <td>35.333333</td>\n",
              "    </tr>\n",
              "  </tbody>\n",
              "</table>\n",
              "</div>\n",
              "      <button class=\"colab-df-convert\" onclick=\"convertToInteractive('df-53866970-caaa-40e7-845a-f83d498e14a6')\"\n",
              "              title=\"Convert this dataframe to an interactive table.\"\n",
              "              style=\"display:none;\">\n",
              "        \n",
              "  <svg xmlns=\"http://www.w3.org/2000/svg\" height=\"24px\"viewBox=\"0 0 24 24\"\n",
              "       width=\"24px\">\n",
              "    <path d=\"M0 0h24v24H0V0z\" fill=\"none\"/>\n",
              "    <path d=\"M18.56 5.44l.94 2.06.94-2.06 2.06-.94-2.06-.94-.94-2.06-.94 2.06-2.06.94zm-11 1L8.5 8.5l.94-2.06 2.06-.94-2.06-.94L8.5 2.5l-.94 2.06-2.06.94zm10 10l.94 2.06.94-2.06 2.06-.94-2.06-.94-.94-2.06-.94 2.06-2.06.94z\"/><path d=\"M17.41 7.96l-1.37-1.37c-.4-.4-.92-.59-1.43-.59-.52 0-1.04.2-1.43.59L10.3 9.45l-7.72 7.72c-.78.78-.78 2.05 0 2.83L4 21.41c.39.39.9.59 1.41.59.51 0 1.02-.2 1.41-.59l7.78-7.78 2.81-2.81c.8-.78.8-2.07 0-2.86zM5.41 20L4 18.59l7.72-7.72 1.47 1.35L5.41 20z\"/>\n",
              "  </svg>\n",
              "      </button>\n",
              "      \n",
              "  <style>\n",
              "    .colab-df-container {\n",
              "      display:flex;\n",
              "      flex-wrap:wrap;\n",
              "      gap: 12px;\n",
              "    }\n",
              "\n",
              "    .colab-df-convert {\n",
              "      background-color: #E8F0FE;\n",
              "      border: none;\n",
              "      border-radius: 50%;\n",
              "      cursor: pointer;\n",
              "      display: none;\n",
              "      fill: #1967D2;\n",
              "      height: 32px;\n",
              "      padding: 0 0 0 0;\n",
              "      width: 32px;\n",
              "    }\n",
              "\n",
              "    .colab-df-convert:hover {\n",
              "      background-color: #E2EBFA;\n",
              "      box-shadow: 0px 1px 2px rgba(60, 64, 67, 0.3), 0px 1px 3px 1px rgba(60, 64, 67, 0.15);\n",
              "      fill: #174EA6;\n",
              "    }\n",
              "\n",
              "    [theme=dark] .colab-df-convert {\n",
              "      background-color: #3B4455;\n",
              "      fill: #D2E3FC;\n",
              "    }\n",
              "\n",
              "    [theme=dark] .colab-df-convert:hover {\n",
              "      background-color: #434B5C;\n",
              "      box-shadow: 0px 1px 3px 1px rgba(0, 0, 0, 0.15);\n",
              "      filter: drop-shadow(0px 1px 2px rgba(0, 0, 0, 0.3));\n",
              "      fill: #FFFFFF;\n",
              "    }\n",
              "  </style>\n",
              "\n",
              "      <script>\n",
              "        const buttonEl =\n",
              "          document.querySelector('#df-53866970-caaa-40e7-845a-f83d498e14a6 button.colab-df-convert');\n",
              "        buttonEl.style.display =\n",
              "          google.colab.kernel.accessAllowed ? 'block' : 'none';\n",
              "\n",
              "        async function convertToInteractive(key) {\n",
              "          const element = document.querySelector('#df-53866970-caaa-40e7-845a-f83d498e14a6');\n",
              "          const dataTable =\n",
              "            await google.colab.kernel.invokeFunction('convertToInteractive',\n",
              "                                                     [key], {});\n",
              "          if (!dataTable) return;\n",
              "\n",
              "          const docLinkHtml = 'Like what you see? Visit the ' +\n",
              "            '<a target=\"_blank\" href=https://colab.research.google.com/notebooks/data_table.ipynb>data table notebook</a>'\n",
              "            + ' to learn more about interactive tables.';\n",
              "          element.innerHTML = '';\n",
              "          dataTable['output_type'] = 'display_data';\n",
              "          await google.colab.output.renderOutput(dataTable, element);\n",
              "          const docLink = document.createElement('div');\n",
              "          docLink.innerHTML = docLinkHtml;\n",
              "          element.appendChild(docLink);\n",
              "        }\n",
              "      </script>\n",
              "    </div>\n",
              "  </div>\n",
              "  "
            ],
            "text/plain": [
              "   Uses python    avg Age\n",
              "0         True  31.600000\n",
              "1        False  35.333333"
            ]
          },
          "metadata": {},
          "execution_count": 41
        }
      ]
    },
    {
      "cell_type": "markdown",
      "metadata": {
        "id": "R2wjj8qP42kl"
      },
      "source": [
        "#### Get names and codin languages of males older than 35 years old"
      ]
    },
    {
      "cell_type": "code",
      "source": [
        "filters = {'gender':'Male', 'age' : {'$gte' : 35 }}\n",
        "fields = { 'name', 'codingLanguages'}\n",
        "query = list(mycol.find(filters, fields))\n",
        "df = pd.DataFrame(query)[list(fields)]\n",
        "df"
      ],
      "metadata": {
        "colab": {
          "base_uri": "https://localhost:8080/",
          "height": 143
        },
        "id": "9bKRWuWNu3eG",
        "outputId": "86b50b33-3187-47ae-9948-be49b1cc9765"
      },
      "execution_count": null,
      "outputs": [
        {
          "output_type": "execute_result",
          "data": {
            "text/html": [
              "\n",
              "  <div id=\"df-f07d7d7f-35ee-4f3c-82ac-238ff30a1bca\">\n",
              "    <div class=\"colab-df-container\">\n",
              "      <div>\n",
              "<style scoped>\n",
              "    .dataframe tbody tr th:only-of-type {\n",
              "        vertical-align: middle;\n",
              "    }\n",
              "\n",
              "    .dataframe tbody tr th {\n",
              "        vertical-align: top;\n",
              "    }\n",
              "\n",
              "    .dataframe thead th {\n",
              "        text-align: right;\n",
              "    }\n",
              "</style>\n",
              "<table border=\"1\" class=\"dataframe\">\n",
              "  <thead>\n",
              "    <tr style=\"text-align: right;\">\n",
              "      <th></th>\n",
              "      <th>name</th>\n",
              "      <th>codingLanguages</th>\n",
              "    </tr>\n",
              "  </thead>\n",
              "  <tbody>\n",
              "    <tr>\n",
              "      <th>0</th>\n",
              "      <td>Leonardo</td>\n",
              "      <td>[Python, R, Arduino (C++), PHP, Perl]</td>\n",
              "    </tr>\n",
              "    <tr>\n",
              "      <th>1</th>\n",
              "      <td>ricardojaume</td>\n",
              "      <td>[Python, BASIC, C++, C, COBOL, JavaScript, Bas...</td>\n",
              "    </tr>\n",
              "    <tr>\n",
              "      <th>2</th>\n",
              "      <td>JoanB</td>\n",
              "      <td>[AWK, Perl, PHP, R, sed]</td>\n",
              "    </tr>\n",
              "  </tbody>\n",
              "</table>\n",
              "</div>\n",
              "      <button class=\"colab-df-convert\" onclick=\"convertToInteractive('df-f07d7d7f-35ee-4f3c-82ac-238ff30a1bca')\"\n",
              "              title=\"Convert this dataframe to an interactive table.\"\n",
              "              style=\"display:none;\">\n",
              "        \n",
              "  <svg xmlns=\"http://www.w3.org/2000/svg\" height=\"24px\"viewBox=\"0 0 24 24\"\n",
              "       width=\"24px\">\n",
              "    <path d=\"M0 0h24v24H0V0z\" fill=\"none\"/>\n",
              "    <path d=\"M18.56 5.44l.94 2.06.94-2.06 2.06-.94-2.06-.94-.94-2.06-.94 2.06-2.06.94zm-11 1L8.5 8.5l.94-2.06 2.06-.94-2.06-.94L8.5 2.5l-.94 2.06-2.06.94zm10 10l.94 2.06.94-2.06 2.06-.94-2.06-.94-.94-2.06-.94 2.06-2.06.94z\"/><path d=\"M17.41 7.96l-1.37-1.37c-.4-.4-.92-.59-1.43-.59-.52 0-1.04.2-1.43.59L10.3 9.45l-7.72 7.72c-.78.78-.78 2.05 0 2.83L4 21.41c.39.39.9.59 1.41.59.51 0 1.02-.2 1.41-.59l7.78-7.78 2.81-2.81c.8-.78.8-2.07 0-2.86zM5.41 20L4 18.59l7.72-7.72 1.47 1.35L5.41 20z\"/>\n",
              "  </svg>\n",
              "      </button>\n",
              "      \n",
              "  <style>\n",
              "    .colab-df-container {\n",
              "      display:flex;\n",
              "      flex-wrap:wrap;\n",
              "      gap: 12px;\n",
              "    }\n",
              "\n",
              "    .colab-df-convert {\n",
              "      background-color: #E8F0FE;\n",
              "      border: none;\n",
              "      border-radius: 50%;\n",
              "      cursor: pointer;\n",
              "      display: none;\n",
              "      fill: #1967D2;\n",
              "      height: 32px;\n",
              "      padding: 0 0 0 0;\n",
              "      width: 32px;\n",
              "    }\n",
              "\n",
              "    .colab-df-convert:hover {\n",
              "      background-color: #E2EBFA;\n",
              "      box-shadow: 0px 1px 2px rgba(60, 64, 67, 0.3), 0px 1px 3px 1px rgba(60, 64, 67, 0.15);\n",
              "      fill: #174EA6;\n",
              "    }\n",
              "\n",
              "    [theme=dark] .colab-df-convert {\n",
              "      background-color: #3B4455;\n",
              "      fill: #D2E3FC;\n",
              "    }\n",
              "\n",
              "    [theme=dark] .colab-df-convert:hover {\n",
              "      background-color: #434B5C;\n",
              "      box-shadow: 0px 1px 3px 1px rgba(0, 0, 0, 0.15);\n",
              "      filter: drop-shadow(0px 1px 2px rgba(0, 0, 0, 0.3));\n",
              "      fill: #FFFFFF;\n",
              "    }\n",
              "  </style>\n",
              "\n",
              "      <script>\n",
              "        const buttonEl =\n",
              "          document.querySelector('#df-f07d7d7f-35ee-4f3c-82ac-238ff30a1bca button.colab-df-convert');\n",
              "        buttonEl.style.display =\n",
              "          google.colab.kernel.accessAllowed ? 'block' : 'none';\n",
              "\n",
              "        async function convertToInteractive(key) {\n",
              "          const element = document.querySelector('#df-f07d7d7f-35ee-4f3c-82ac-238ff30a1bca');\n",
              "          const dataTable =\n",
              "            await google.colab.kernel.invokeFunction('convertToInteractive',\n",
              "                                                     [key], {});\n",
              "          if (!dataTable) return;\n",
              "\n",
              "          const docLinkHtml = 'Like what you see? Visit the ' +\n",
              "            '<a target=\"_blank\" href=https://colab.research.google.com/notebooks/data_table.ipynb>data table notebook</a>'\n",
              "            + ' to learn more about interactive tables.';\n",
              "          element.innerHTML = '';\n",
              "          dataTable['output_type'] = 'display_data';\n",
              "          await google.colab.output.renderOutput(dataTable, element);\n",
              "          const docLink = document.createElement('div');\n",
              "          docLink.innerHTML = docLinkHtml;\n",
              "          element.appendChild(docLink);\n",
              "        }\n",
              "      </script>\n",
              "    </div>\n",
              "  </div>\n",
              "  "
            ],
            "text/plain": [
              "           name                                    codingLanguages\n",
              "0      Leonardo              [Python, R, Arduino (C++), PHP, Perl]\n",
              "1  ricardojaume  [Python, BASIC, C++, C, COBOL, JavaScript, Bas...\n",
              "2         JoanB                           [AWK, Perl, PHP, R, sed]"
            ]
          },
          "metadata": {},
          "execution_count": 42
        }
      ]
    },
    {
      "cell_type": "markdown",
      "source": [
        "# Level 3"
      ],
      "metadata": {
        "id": "aOZJdoO6yRLA"
      }
    },
    {
      "cell_type": "markdown",
      "metadata": {
        "id": "k9od55gr_S-u"
      },
      "source": [
        "# Exercise 1: \n",
        "  - Generates a statistical summary of the information contained in the database.\n",
        "\n",
        "Resources\n",
        "Classroom resources and https://docs.spring.io/spring-data/mongodb/docs/current/reference/html/#reference."
      ]
    },
    {
      "cell_type": "markdown",
      "source": [
        "To do this exercise I will create a large MongoDB database from a public dataset with information on the Bicing stations in Barcelona registered in December 2018\n",
        "\n",
        "[Bicing stations of the city of Barcelona (Mechanics and electrics)](https://datos.gob.es/en/catalogo/l01080193-estaciones-de-bicing-de-la-ciudad-de-barcelona-mecanicas-y-electricas1)"
      ],
      "metadata": {
        "id": "yuDcjAPP1ihZ"
      }
    },
    {
      "cell_type": "markdown",
      "source": [
        "\n",
        "- **id**: Número identificatiu\n",
        "- **type**: Tipus d'estació\n",
        "- **latitude**: Coordenada de latitud\n",
        "- **longitude**: Coordenada de longitud\n",
        "- **streetName**: Nom del carrer\n",
        "- **streetNumber**: Número del carrer\n",
        "- **altitude**: Altitud de l'estació\n",
        "- **slots**: Anclatges disponibles\n",
        "- **bikes**: Bicicletes disponibles\n",
        "- **nearbyStations**: Estacions properes\n",
        "- **status**: Estat de l'estació\n",
        "- **updateTime**: date Time"
      ],
      "metadata": {
        "id": "O-TjtHtE0PHQ"
      }
    },
    {
      "cell_type": "markdown",
      "source": [
        "#### Get de dataset from url"
      ],
      "metadata": {
        "id": "GEVd4gFEPl6u"
      }
    },
    {
      "cell_type": "code",
      "source": [
        "dataset = \"http://opendata-ajuntament.barcelona.cat/data/dataset/fa94d2f3-3428-47b8-9f2b-f1e4423e745a/resource/33bb617f-dc02-48a5-a2ac-fcf6ab4d54cd/download\"\n",
        "df = pd.read_csv(dataset, parse_dates=[\"updateTime\"], dayfirst=True)\n",
        "df"
      ],
      "metadata": {
        "colab": {
          "base_uri": "https://localhost:8080/",
          "height": 424
        },
        "id": "2FcavLtu8n8Z",
        "outputId": "7485ccc8-0448-4ede-b93d-329cf011f909"
      },
      "execution_count": null,
      "outputs": [
        {
          "output_type": "execute_result",
          "data": {
            "text/html": [
              "\n",
              "  <div id=\"df-6fcc976d-0511-452d-a17e-4973eeead7b4\">\n",
              "    <div class=\"colab-df-container\">\n",
              "      <div>\n",
              "<style scoped>\n",
              "    .dataframe tbody tr th:only-of-type {\n",
              "        vertical-align: middle;\n",
              "    }\n",
              "\n",
              "    .dataframe tbody tr th {\n",
              "        vertical-align: top;\n",
              "    }\n",
              "\n",
              "    .dataframe thead th {\n",
              "        text-align: right;\n",
              "    }\n",
              "</style>\n",
              "<table border=\"1\" class=\"dataframe\">\n",
              "  <thead>\n",
              "    <tr style=\"text-align: right;\">\n",
              "      <th></th>\n",
              "      <th>id</th>\n",
              "      <th>type</th>\n",
              "      <th>latitude</th>\n",
              "      <th>longitude</th>\n",
              "      <th>streetName</th>\n",
              "      <th>streetNumber</th>\n",
              "      <th>altitude</th>\n",
              "      <th>slots</th>\n",
              "      <th>bikes</th>\n",
              "      <th>nearbyStations</th>\n",
              "      <th>status</th>\n",
              "      <th>updateTime</th>\n",
              "    </tr>\n",
              "  </thead>\n",
              "  <tbody>\n",
              "    <tr>\n",
              "      <th>0</th>\n",
              "      <td>1</td>\n",
              "      <td>BIKE</td>\n",
              "      <td>41.397952</td>\n",
              "      <td>2.180042</td>\n",
              "      <td>Gran Via Corts Catalanes</td>\n",
              "      <td>760</td>\n",
              "      <td>21</td>\n",
              "      <td>10</td>\n",
              "      <td>17</td>\n",
              "      <td>24, 369, 387, 426</td>\n",
              "      <td>OPN</td>\n",
              "      <td>2018-11-30 23:59:14</td>\n",
              "    </tr>\n",
              "    <tr>\n",
              "      <th>1</th>\n",
              "      <td>2</td>\n",
              "      <td>BIKE</td>\n",
              "      <td>41.395530</td>\n",
              "      <td>2.177060</td>\n",
              "      <td>Roger de Flor/ Gran Vía</td>\n",
              "      <td>126</td>\n",
              "      <td>21</td>\n",
              "      <td>4</td>\n",
              "      <td>23</td>\n",
              "      <td>360, 368, 387, 414</td>\n",
              "      <td>OPN</td>\n",
              "      <td>2018-11-30 23:59:14</td>\n",
              "    </tr>\n",
              "    <tr>\n",
              "      <th>2</th>\n",
              "      <td>3</td>\n",
              "      <td>BIKE</td>\n",
              "      <td>41.394055</td>\n",
              "      <td>2.181299</td>\n",
              "      <td>Nàpols</td>\n",
              "      <td>82</td>\n",
              "      <td>22</td>\n",
              "      <td>9</td>\n",
              "      <td>18</td>\n",
              "      <td>4, 6, 119, 419</td>\n",
              "      <td>OPN</td>\n",
              "      <td>2018-11-30 23:59:14</td>\n",
              "    </tr>\n",
              "    <tr>\n",
              "      <th>3</th>\n",
              "      <td>4</td>\n",
              "      <td>BIKE</td>\n",
              "      <td>41.393480</td>\n",
              "      <td>2.181555</td>\n",
              "      <td>Ribes</td>\n",
              "      <td>13</td>\n",
              "      <td>21</td>\n",
              "      <td>0</td>\n",
              "      <td>20</td>\n",
              "      <td>3, 5, 359, 419</td>\n",
              "      <td>OPN</td>\n",
              "      <td>2018-11-30 23:59:14</td>\n",
              "    </tr>\n",
              "    <tr>\n",
              "      <th>4</th>\n",
              "      <td>5</td>\n",
              "      <td>BIKE</td>\n",
              "      <td>41.391075</td>\n",
              "      <td>2.180223</td>\n",
              "      <td>Pg Lluís Companys</td>\n",
              "      <td>11</td>\n",
              "      <td>16</td>\n",
              "      <td>1</td>\n",
              "      <td>38</td>\n",
              "      <td>6, 7, 359, 418</td>\n",
              "      <td>OPN</td>\n",
              "      <td>2018-11-30 23:59:14</td>\n",
              "    </tr>\n",
              "    <tr>\n",
              "      <th>...</th>\n",
              "      <td>...</td>\n",
              "      <td>...</td>\n",
              "      <td>...</td>\n",
              "      <td>...</td>\n",
              "      <td>...</td>\n",
              "      <td>...</td>\n",
              "      <td>...</td>\n",
              "      <td>...</td>\n",
              "      <td>...</td>\n",
              "      <td>...</td>\n",
              "      <td>...</td>\n",
              "      <td>...</td>\n",
              "    </tr>\n",
              "    <tr>\n",
              "      <th>3784755</th>\n",
              "      <td>492</td>\n",
              "      <td>BIKE-ELECTRIC</td>\n",
              "      <td>41.394232</td>\n",
              "      <td>2.175278</td>\n",
              "      <td>PL. DE TETUAN</td>\n",
              "      <td>8-9</td>\n",
              "      <td>21</td>\n",
              "      <td>16</td>\n",
              "      <td>7</td>\n",
              "      <td>459, 485</td>\n",
              "      <td>OPN</td>\n",
              "      <td>2018-12-31 23:54:12</td>\n",
              "    </tr>\n",
              "    <tr>\n",
              "      <th>3784756</th>\n",
              "      <td>493</td>\n",
              "      <td>BIKE-ELECTRIC</td>\n",
              "      <td>41.381860</td>\n",
              "      <td>2.177086</td>\n",
              "      <td>PL. SANT MIQUEL</td>\n",
              "      <td>4</td>\n",
              "      <td>8</td>\n",
              "      <td>16</td>\n",
              "      <td>6</td>\n",
              "      <td>460, 477</td>\n",
              "      <td>OPN</td>\n",
              "      <td>2018-12-31 23:54:12</td>\n",
              "    </tr>\n",
              "    <tr>\n",
              "      <th>3784757</th>\n",
              "      <td>494</td>\n",
              "      <td>BIKE-ELECTRIC</td>\n",
              "      <td>41.389481</td>\n",
              "      <td>2.165357</td>\n",
              "      <td>RAMBLA CATALUNYA</td>\n",
              "      <td>31</td>\n",
              "      <td>41</td>\n",
              "      <td>6</td>\n",
              "      <td>18</td>\n",
              "      <td>484, 485</td>\n",
              "      <td>OPN</td>\n",
              "      <td>2018-12-31 23:54:12</td>\n",
              "    </tr>\n",
              "    <tr>\n",
              "      <th>3784758</th>\n",
              "      <td>495</td>\n",
              "      <td>BIKE-ELECTRIC</td>\n",
              "      <td>41.377191</td>\n",
              "      <td>2.149283</td>\n",
              "      <td>C/ DIPUTACIÓ - TARRAGONA</td>\n",
              "      <td>SN</td>\n",
              "      <td>45</td>\n",
              "      <td>13</td>\n",
              "      <td>10</td>\n",
              "      <td>451, 481</td>\n",
              "      <td>OPN</td>\n",
              "      <td>2018-12-31 23:54:12</td>\n",
              "    </tr>\n",
              "    <tr>\n",
              "      <th>3784759</th>\n",
              "      <td>496</td>\n",
              "      <td>BIKE-ELECTRIC</td>\n",
              "      <td>41.404871</td>\n",
              "      <td>2.175141</td>\n",
              "      <td>C/ DE PROVENÇA</td>\n",
              "      <td>445</td>\n",
              "      <td>21</td>\n",
              "      <td>9</td>\n",
              "      <td>15</td>\n",
              "      <td>452, 475</td>\n",
              "      <td>OPN</td>\n",
              "      <td>2018-12-31 23:54:12</td>\n",
              "    </tr>\n",
              "  </tbody>\n",
              "</table>\n",
              "<p>3784760 rows × 12 columns</p>\n",
              "</div>\n",
              "      <button class=\"colab-df-convert\" onclick=\"convertToInteractive('df-6fcc976d-0511-452d-a17e-4973eeead7b4')\"\n",
              "              title=\"Convert this dataframe to an interactive table.\"\n",
              "              style=\"display:none;\">\n",
              "        \n",
              "  <svg xmlns=\"http://www.w3.org/2000/svg\" height=\"24px\"viewBox=\"0 0 24 24\"\n",
              "       width=\"24px\">\n",
              "    <path d=\"M0 0h24v24H0V0z\" fill=\"none\"/>\n",
              "    <path d=\"M18.56 5.44l.94 2.06.94-2.06 2.06-.94-2.06-.94-.94-2.06-.94 2.06-2.06.94zm-11 1L8.5 8.5l.94-2.06 2.06-.94-2.06-.94L8.5 2.5l-.94 2.06-2.06.94zm10 10l.94 2.06.94-2.06 2.06-.94-2.06-.94-.94-2.06-.94 2.06-2.06.94z\"/><path d=\"M17.41 7.96l-1.37-1.37c-.4-.4-.92-.59-1.43-.59-.52 0-1.04.2-1.43.59L10.3 9.45l-7.72 7.72c-.78.78-.78 2.05 0 2.83L4 21.41c.39.39.9.59 1.41.59.51 0 1.02-.2 1.41-.59l7.78-7.78 2.81-2.81c.8-.78.8-2.07 0-2.86zM5.41 20L4 18.59l7.72-7.72 1.47 1.35L5.41 20z\"/>\n",
              "  </svg>\n",
              "      </button>\n",
              "      \n",
              "  <style>\n",
              "    .colab-df-container {\n",
              "      display:flex;\n",
              "      flex-wrap:wrap;\n",
              "      gap: 12px;\n",
              "    }\n",
              "\n",
              "    .colab-df-convert {\n",
              "      background-color: #E8F0FE;\n",
              "      border: none;\n",
              "      border-radius: 50%;\n",
              "      cursor: pointer;\n",
              "      display: none;\n",
              "      fill: #1967D2;\n",
              "      height: 32px;\n",
              "      padding: 0 0 0 0;\n",
              "      width: 32px;\n",
              "    }\n",
              "\n",
              "    .colab-df-convert:hover {\n",
              "      background-color: #E2EBFA;\n",
              "      box-shadow: 0px 1px 2px rgba(60, 64, 67, 0.3), 0px 1px 3px 1px rgba(60, 64, 67, 0.15);\n",
              "      fill: #174EA6;\n",
              "    }\n",
              "\n",
              "    [theme=dark] .colab-df-convert {\n",
              "      background-color: #3B4455;\n",
              "      fill: #D2E3FC;\n",
              "    }\n",
              "\n",
              "    [theme=dark] .colab-df-convert:hover {\n",
              "      background-color: #434B5C;\n",
              "      box-shadow: 0px 1px 3px 1px rgba(0, 0, 0, 0.15);\n",
              "      filter: drop-shadow(0px 1px 2px rgba(0, 0, 0, 0.3));\n",
              "      fill: #FFFFFF;\n",
              "    }\n",
              "  </style>\n",
              "\n",
              "      <script>\n",
              "        const buttonEl =\n",
              "          document.querySelector('#df-6fcc976d-0511-452d-a17e-4973eeead7b4 button.colab-df-convert');\n",
              "        buttonEl.style.display =\n",
              "          google.colab.kernel.accessAllowed ? 'block' : 'none';\n",
              "\n",
              "        async function convertToInteractive(key) {\n",
              "          const element = document.querySelector('#df-6fcc976d-0511-452d-a17e-4973eeead7b4');\n",
              "          const dataTable =\n",
              "            await google.colab.kernel.invokeFunction('convertToInteractive',\n",
              "                                                     [key], {});\n",
              "          if (!dataTable) return;\n",
              "\n",
              "          const docLinkHtml = 'Like what you see? Visit the ' +\n",
              "            '<a target=\"_blank\" href=https://colab.research.google.com/notebooks/data_table.ipynb>data table notebook</a>'\n",
              "            + ' to learn more about interactive tables.';\n",
              "          element.innerHTML = '';\n",
              "          dataTable['output_type'] = 'display_data';\n",
              "          await google.colab.output.renderOutput(dataTable, element);\n",
              "          const docLink = document.createElement('div');\n",
              "          docLink.innerHTML = docLinkHtml;\n",
              "          element.appendChild(docLink);\n",
              "        }\n",
              "      </script>\n",
              "    </div>\n",
              "  </div>\n",
              "  "
            ],
            "text/plain": [
              "          id           type  ...  status          updateTime\n",
              "0          1           BIKE  ...     OPN 2018-11-30 23:59:14\n",
              "1          2           BIKE  ...     OPN 2018-11-30 23:59:14\n",
              "2          3           BIKE  ...     OPN 2018-11-30 23:59:14\n",
              "3          4           BIKE  ...     OPN 2018-11-30 23:59:14\n",
              "4          5           BIKE  ...     OPN 2018-11-30 23:59:14\n",
              "...      ...            ...  ...     ...                 ...\n",
              "3784755  492  BIKE-ELECTRIC  ...     OPN 2018-12-31 23:54:12\n",
              "3784756  493  BIKE-ELECTRIC  ...     OPN 2018-12-31 23:54:12\n",
              "3784757  494  BIKE-ELECTRIC  ...     OPN 2018-12-31 23:54:12\n",
              "3784758  495  BIKE-ELECTRIC  ...     OPN 2018-12-31 23:54:12\n",
              "3784759  496  BIKE-ELECTRIC  ...     OPN 2018-12-31 23:54:12\n",
              "\n",
              "[3784760 rows x 12 columns]"
            ]
          },
          "metadata": {},
          "execution_count": 43
        }
      ]
    },
    {
      "cell_type": "markdown",
      "metadata": {
        "id": "in-umFlEieBo"
      },
      "source": [
        "Check for missing data (NaN)."
      ]
    },
    {
      "cell_type": "code",
      "execution_count": null,
      "metadata": {
        "id": "m6LtG64zieBp",
        "outputId": "0a5d8798-325d-439e-c71a-abd0ec54ca15",
        "colab": {
          "base_uri": "https://localhost:8080/"
        }
      },
      "outputs": [
        {
          "output_type": "stream",
          "name": "stdout",
          "text": [
            "Are there NaN values?: True\n"
          ]
        }
      ],
      "source": [
        "print(f\"Are there NaN values?: {df.isnull().values.any()}\")"
      ]
    },
    {
      "cell_type": "markdown",
      "metadata": {
        "id": "B-UgB3WKieBq"
      },
      "source": [
        "We have about 3.8 million entries"
      ]
    },
    {
      "cell_type": "code",
      "execution_count": null,
      "metadata": {
        "scrolled": true,
        "id": "oprbt51qieBq",
        "outputId": "d0a3966b-8f35-47cb-cdf1-d949f8164655",
        "colab": {
          "base_uri": "https://localhost:8080/",
          "height": 35
        }
      },
      "outputs": [
        {
          "output_type": "execute_result",
          "data": {
            "application/vnd.google.colaboratory.intrinsic+json": {
              "type": "string"
            },
            "text/plain": [
              "'3.8e+06'"
            ]
          },
          "metadata": {},
          "execution_count": 45
        }
      ],
      "source": [
        "f'{df.shape[0]:.2g}'"
      ]
    },
    {
      "cell_type": "markdown",
      "metadata": {
        "id": "pUGVq3HgieBr"
      },
      "source": [
        "Corresponding to 463 different stations"
      ]
    },
    {
      "cell_type": "code",
      "execution_count": null,
      "metadata": {
        "id": "3_f2unHCieBr",
        "outputId": "ce48fd46-64f2-42d7-cc4e-667d9b3543bc",
        "colab": {
          "base_uri": "https://localhost:8080/"
        }
      },
      "outputs": [
        {
          "output_type": "execute_result",
          "data": {
            "text/plain": [
              "463"
            ]
          },
          "metadata": {},
          "execution_count": 46
        }
      ],
      "source": [
        "len(set(df.id))"
      ]
    },
    {
      "cell_type": "markdown",
      "metadata": {
        "id": "MysaIy2uieBs"
      },
      "source": [
        "The stations are classified as mechanical (``BIKE``) and electric (``BIKE-ELECTRIC``)."
      ]
    },
    {
      "cell_type": "code",
      "execution_count": null,
      "metadata": {
        "id": "JhqLzL0rieBs",
        "outputId": "9a402e97-fe96-4810-a024-44889aa62d99",
        "colab": {
          "base_uri": "https://localhost:8080/"
        }
      },
      "outputs": [
        {
          "output_type": "execute_result",
          "data": {
            "text/plain": [
              "{'BIKE', 'BIKE-ELECTRIC'}"
            ]
          },
          "metadata": {},
          "execution_count": 47
        }
      ],
      "source": [
        "set(df.type)"
      ]
    },
    {
      "cell_type": "markdown",
      "metadata": {
        "id": "RkmS5oEjieBt"
      },
      "source": [
        "Each bike station can be operational (``OPN``) or closed (``CLS``)."
      ]
    },
    {
      "cell_type": "code",
      "execution_count": null,
      "metadata": {
        "id": "0VYTsuucieBt",
        "outputId": "dc5d6592-1ddc-46ec-e1fb-f9271d90ac7e",
        "colab": {
          "base_uri": "https://localhost:8080/"
        }
      },
      "outputs": [
        {
          "output_type": "execute_result",
          "data": {
            "text/plain": [
              "{'CLS', 'OPN'}"
            ]
          },
          "metadata": {},
          "execution_count": 48
        }
      ],
      "source": [
        "set(df.status)"
      ]
    },
    {
      "cell_type": "markdown",
      "source": [
        "Since the dataset is larger than we can store in the MongoDB account we have to do some data filtering and/or field removal.\n",
        "\n",
        "Exploring the data I have seen that some stations have been open and closed intermittently, and others have been closed for the entire month.\n",
        "\n",
        "I want to select the stations that have always been open, that is to say that in the whole month they had the status \"OPN\"\n"
      ],
      "metadata": {
        "id": "tlTVK3QuOj7x"
      }
    },
    {
      "cell_type": "markdown",
      "source": [
        "\n",
        "First we create a dropping list with the stations that have had two statuses, that is, they were operational intermittently."
      ],
      "metadata": {
        "id": "lBp0MeWTS8VK"
      }
    },
    {
      "cell_type": "code",
      "source": [
        "to_drop = df.groupby(by=\"id\")[[\"status\"]].nunique()==2"
      ],
      "metadata": {
        "id": "tkNMN8-0QY6O"
      },
      "execution_count": null,
      "outputs": []
    },
    {
      "cell_type": "code",
      "source": [
        "to_drop = to_drop[to_drop.status ==True].index.values"
      ],
      "metadata": {
        "id": "WH6QvAAJQnbP"
      },
      "execution_count": null,
      "outputs": []
    },
    {
      "cell_type": "code",
      "source": [
        "df.shape"
      ],
      "metadata": {
        "colab": {
          "base_uri": "https://localhost:8080/"
        },
        "id": "sr2fxN6XQz3z",
        "outputId": "5c8e0235-9ecd-45e7-e5a5-e6ca00911fa1"
      },
      "execution_count": null,
      "outputs": [
        {
          "output_type": "execute_result",
          "data": {
            "text/plain": [
              "(3784760, 12)"
            ]
          },
          "metadata": {},
          "execution_count": 51
        }
      ]
    },
    {
      "cell_type": "markdown",
      "source": [
        "We eliminate the intermittent stations"
      ],
      "metadata": {
        "id": "W0-xIOvATLBW"
      }
    },
    {
      "cell_type": "code",
      "source": [
        "df = df[~df['id'].isin(to_drop)]"
      ],
      "metadata": {
        "id": "MOI_qDiQQyQ0"
      },
      "execution_count": null,
      "outputs": []
    },
    {
      "cell_type": "code",
      "source": [
        "df.shape"
      ],
      "metadata": {
        "colab": {
          "base_uri": "https://localhost:8080/"
        },
        "id": "9w3wNhqDQ10M",
        "outputId": "6c293f6e-39b8-4df4-9353-6fe26baf9608"
      },
      "execution_count": null,
      "outputs": [
        {
          "output_type": "execute_result",
          "data": {
            "text/plain": [
              "(3541256, 12)"
            ]
          },
          "metadata": {},
          "execution_count": 53
        }
      ]
    },
    {
      "cell_type": "markdown",
      "source": [
        "Then we select only those stations that are open"
      ],
      "metadata": {
        "id": "5RVO7jfBTXNg"
      }
    },
    {
      "cell_type": "code",
      "source": [
        "df = df.loc[df['status']=='OPN']\n",
        "df.shape"
      ],
      "metadata": {
        "colab": {
          "base_uri": "https://localhost:8080/"
        },
        "id": "Qgfy3ZsoNE-0",
        "outputId": "c48f29ee-efdb-4f18-87be-3de62e6de394"
      },
      "execution_count": null,
      "outputs": [
        {
          "output_type": "execute_result",
          "data": {
            "text/plain": [
              "(3510932, 12)"
            ]
          },
          "metadata": {},
          "execution_count": 54
        }
      ]
    },
    {
      "cell_type": "markdown",
      "source": [
        "We still have to delete more records. I will remove 50 randomly chosen stations"
      ],
      "metadata": {
        "id": "EsRJkqOiTnsl"
      }
    },
    {
      "cell_type": "code",
      "source": [
        "to_drop = random.sample(set(df.id), 50)\n",
        "df = df[~df['id'].isin(to_drop)]\n",
        "df.shape"
      ],
      "metadata": {
        "colab": {
          "base_uri": "https://localhost:8080/"
        },
        "id": "-imq3COGF7CP",
        "outputId": "dddd0eb8-7910-4944-899e-c3106d2eeedc"
      },
      "execution_count": null,
      "outputs": [
        {
          "output_type": "execute_result",
          "data": {
            "text/plain": [
              "(3099818, 12)"
            ]
          },
          "metadata": {},
          "execution_count": 55
        }
      ]
    },
    {
      "cell_type": "markdown",
      "source": [
        "We also remove some fields"
      ],
      "metadata": {
        "id": "UhuD9r2UT6qZ"
      }
    },
    {
      "cell_type": "code",
      "source": [
        "df.drop(columns=[\"streetName\", \"streetNumber\", \"nearbyStations\",\"status\"], inplace=True)"
      ],
      "metadata": {
        "id": "AE-y7HOTCHCB"
      },
      "execution_count": null,
      "outputs": []
    },
    {
      "cell_type": "markdown",
      "source": [
        "To load the data to MongoDB we have to transform it from a dataframe into a list of dictionaries."
      ],
      "metadata": {
        "id": "GMctWOmQUILi"
      }
    },
    {
      "cell_type": "code",
      "source": [
        "df = df.to_dict(orient = \"records\")"
      ],
      "metadata": {
        "id": "i9EaCBDRhxR1"
      },
      "execution_count": null,
      "outputs": []
    },
    {
      "cell_type": "code",
      "source": [
        "df[:1]"
      ],
      "metadata": {
        "colab": {
          "base_uri": "https://localhost:8080/"
        },
        "id": "d3giImUjS8RP",
        "outputId": "9bc48e03-c951-4129-8e1d-9cf1a12fef15"
      },
      "execution_count": null,
      "outputs": [
        {
          "output_type": "execute_result",
          "data": {
            "text/plain": [
              "[{'altitude': 21,\n",
              "  'bikes': 17,\n",
              "  'id': 1,\n",
              "  'latitude': 41.397952,\n",
              "  'longitude': 2.180042,\n",
              "  'slots': 10,\n",
              "  'type': 'BIKE',\n",
              "  'updateTime': Timestamp('2018-11-30 23:59:14')}]"
            ]
          },
          "metadata": {},
          "execution_count": 58
        }
      ]
    },
    {
      "cell_type": "markdown",
      "source": [
        "MongoDb Connection"
      ],
      "metadata": {
        "id": "d1rdamHcUwrm"
      }
    },
    {
      "cell_type": "code",
      "source": [
        "uri = 'mongodb+srv://{}:{}@{}.uzieq.mongodb.net/'.format('leobioinfo',password,'Cluster0')\n",
        "try:\n",
        "    client = MongoClient(uri)\n",
        "except Exception:\n",
        "    print(\"Unable to connect to the server.\")"
      ],
      "metadata": {
        "id": "UxZO9BL33ury"
      },
      "execution_count": null,
      "outputs": []
    },
    {
      "cell_type": "markdown",
      "source": [
        "We create the database \"BICING_ESTACIONS\""
      ],
      "metadata": {
        "id": "8deFd_pGVAVC"
      }
    },
    {
      "cell_type": "code",
      "source": [
        "db = client[\"BICING_ESTACIONS\"]"
      ],
      "metadata": {
        "id": "qAtF45EEiTk8"
      },
      "execution_count": null,
      "outputs": []
    },
    {
      "cell_type": "markdown",
      "source": [
        "We create the collection \"December 2018\" and insert the data"
      ],
      "metadata": {
        "id": "Lwi7PGPCVXVI"
      }
    },
    {
      "cell_type": "code",
      "source": [
        "db.December_2018.insert_many(df)"
      ],
      "metadata": {
        "colab": {
          "base_uri": "https://localhost:8080/"
        },
        "id": "jqsnTLzpjn9V",
        "outputId": "c9b3d5e9-9e1e-49e3-f0ac-3ddf32f57a9a"
      },
      "execution_count": null,
      "outputs": [
        {
          "output_type": "execute_result",
          "data": {
            "text/plain": [
              "<pymongo.results.InsertManyResult at 0x7f21a0d36320>"
            ]
          },
          "metadata": {},
          "execution_count": 65
        }
      ]
    },
    {
      "cell_type": "markdown",
      "source": [
        "We check the existence of the database \"BICING_ESTACIONS\" and the collection \"December_2018\""
      ],
      "metadata": {
        "id": "jA4dFOdhVnaT"
      }
    },
    {
      "cell_type": "code",
      "source": [
        "client.list_database_names()"
      ],
      "metadata": {
        "colab": {
          "base_uri": "https://localhost:8080/"
        },
        "id": "ZZ8THLiGpuyd",
        "outputId": "f410946d-0214-4792-fa8d-706cfdff503a"
      },
      "execution_count": null,
      "outputs": [
        {
          "output_type": "execute_result",
          "data": {
            "text/plain": [
              "['BICING_ESTACIONS', 'organisation', 'admin', 'local']"
            ]
          },
          "metadata": {},
          "execution_count": 66
        }
      ]
    },
    {
      "cell_type": "code",
      "source": [
        "db.list_collection_names()"
      ],
      "metadata": {
        "colab": {
          "base_uri": "https://localhost:8080/"
        },
        "id": "tUsdIQbxp4hX",
        "outputId": "63b29d23-ea66-4f9c-bbd1-b964aafee7e7"
      },
      "execution_count": null,
      "outputs": [
        {
          "output_type": "execute_result",
          "data": {
            "text/plain": [
              "['December_2018']"
            ]
          },
          "metadata": {},
          "execution_count": 67
        }
      ]
    },
    {
      "cell_type": "markdown",
      "source": [
        "Set the collection to work with"
      ],
      "metadata": {
        "id": "yR0wmXfsVr4t"
      }
    },
    {
      "cell_type": "code",
      "source": [
        "mycol = db.December_2018"
      ],
      "metadata": {
        "id": "BvPLIBFyqBRv"
      },
      "execution_count": null,
      "outputs": []
    },
    {
      "cell_type": "markdown",
      "source": [
        "Database stats"
      ],
      "metadata": {
        "id": "6lzjv2n2XJXK"
      }
    },
    {
      "cell_type": "code",
      "source": [
        "call = db.command(\"dbstats\")\n",
        "print('Database: {}\\nObjects: {}\\nCollections: {}\\nSize: {} Mb'.format(call['db'],\n",
        "                                                                    call['objects'],\n",
        "                                                                    call['collections'],\n",
        "                                                                    round(call['dataSize']/1024**2)))"
      ],
      "metadata": {
        "colab": {
          "base_uri": "https://localhost:8080/"
        },
        "id": "DX9HfJ1jqFfa",
        "outputId": "b6082883-c38b-42bd-823b-935ebd4cf00c"
      },
      "execution_count": null,
      "outputs": [
        {
          "output_type": "stream",
          "name": "stdout",
          "text": [
            "Database: BICING_ESTACIONS\n",
            "Objects: 3099818\n",
            "Collections: 1\n",
            "Size: 411 Mb\n"
          ]
        }
      ]
    },
    {
      "cell_type": "markdown",
      "source": [
        "Statistical summary of the information grouped by type of station"
      ],
      "metadata": {
        "id": "MEUceHXPXk5M"
      }
    },
    {
      "cell_type": "code",
      "source": [
        "query = list( mycol.aggregate([\n",
        "  {\n",
        "    \"$group\" : {\n",
        "        \"_id\" : \"$type\",\n",
        "       \"avgBikes\": { \"$avg\": \"$bikes\" },\n",
        "       \"stdBikes\": { \"$stdDevPop\": \"$bikes\" },\n",
        "       \"avgSlots\": { \"$avg\": \"$slots\" },\n",
        "       \"stdSlots\": { \"$stdDevPop\": \"$slots\" },\n",
        "       \"minAltitude\": { \"$min\": \"$altitude\" },\n",
        "       \"maxAltitude\": { \"$max\": \"$altitude\" },\n",
        "       \"minLatitude\": { \"$min\": \"$latitude\" },\n",
        "       \"maxLatitude\": { \"$max\": \"$latitude\" },\n",
        "       \"minLongitude\": { \"$min\": \"$longitude\" },\n",
        "       \"maxLongitude\": { \"$max\": \"$longitude\" }\n",
        "\n",
        "    }\n",
        "  },\n",
        "  {\n",
        "    \"$sort\" : { \"_id\": -1 }\n",
        "  }\n",
        " ]))\n",
        "pd.DataFrame(query)"
      ],
      "metadata": {
        "colab": {
          "base_uri": "https://localhost:8080/",
          "height": 112
        },
        "id": "j0_9TCbc9c-Z",
        "outputId": "247b0145-7e02-44ea-8c06-d5d06a736c3f"
      },
      "execution_count": null,
      "outputs": [
        {
          "output_type": "execute_result",
          "data": {
            "text/html": [
              "\n",
              "  <div id=\"df-aff9b25e-8d6a-4229-9c0a-c4424d46cf05\">\n",
              "    <div class=\"colab-df-container\">\n",
              "      <div>\n",
              "<style scoped>\n",
              "    .dataframe tbody tr th:only-of-type {\n",
              "        vertical-align: middle;\n",
              "    }\n",
              "\n",
              "    .dataframe tbody tr th {\n",
              "        vertical-align: top;\n",
              "    }\n",
              "\n",
              "    .dataframe thead th {\n",
              "        text-align: right;\n",
              "    }\n",
              "</style>\n",
              "<table border=\"1\" class=\"dataframe\">\n",
              "  <thead>\n",
              "    <tr style=\"text-align: right;\">\n",
              "      <th></th>\n",
              "      <th>_id</th>\n",
              "      <th>avgBikes</th>\n",
              "      <th>stdBikes</th>\n",
              "      <th>avgSlots</th>\n",
              "      <th>stdSlots</th>\n",
              "      <th>minAltitude</th>\n",
              "      <th>maxAltitude</th>\n",
              "      <th>minLatitude</th>\n",
              "      <th>maxLatitude</th>\n",
              "      <th>minLongitude</th>\n",
              "      <th>maxLongitude</th>\n",
              "    </tr>\n",
              "  </thead>\n",
              "  <tbody>\n",
              "    <tr>\n",
              "      <th>0</th>\n",
              "      <td>BIKE-ELECTRIC</td>\n",
              "      <td>6.176166</td>\n",
              "      <td>3.574704</td>\n",
              "      <td>6.865586</td>\n",
              "      <td>3.193643</td>\n",
              "      <td>1</td>\n",
              "      <td>106</td>\n",
              "      <td>41.372520</td>\n",
              "      <td>41.427727</td>\n",
              "      <td>2.114973</td>\n",
              "      <td>2.221230</td>\n",
              "    </tr>\n",
              "    <tr>\n",
              "      <th>1</th>\n",
              "      <td>BIKE</td>\n",
              "      <td>11.608342</td>\n",
              "      <td>9.006285</td>\n",
              "      <td>13.960222</td>\n",
              "      <td>9.246102</td>\n",
              "      <td>0</td>\n",
              "      <td>138</td>\n",
              "      <td>41.357338</td>\n",
              "      <td>41.450634</td>\n",
              "      <td>2.111615</td>\n",
              "      <td>2.221153</td>\n",
              "    </tr>\n",
              "  </tbody>\n",
              "</table>\n",
              "</div>\n",
              "      <button class=\"colab-df-convert\" onclick=\"convertToInteractive('df-aff9b25e-8d6a-4229-9c0a-c4424d46cf05')\"\n",
              "              title=\"Convert this dataframe to an interactive table.\"\n",
              "              style=\"display:none;\">\n",
              "        \n",
              "  <svg xmlns=\"http://www.w3.org/2000/svg\" height=\"24px\"viewBox=\"0 0 24 24\"\n",
              "       width=\"24px\">\n",
              "    <path d=\"M0 0h24v24H0V0z\" fill=\"none\"/>\n",
              "    <path d=\"M18.56 5.44l.94 2.06.94-2.06 2.06-.94-2.06-.94-.94-2.06-.94 2.06-2.06.94zm-11 1L8.5 8.5l.94-2.06 2.06-.94-2.06-.94L8.5 2.5l-.94 2.06-2.06.94zm10 10l.94 2.06.94-2.06 2.06-.94-2.06-.94-.94-2.06-.94 2.06-2.06.94z\"/><path d=\"M17.41 7.96l-1.37-1.37c-.4-.4-.92-.59-1.43-.59-.52 0-1.04.2-1.43.59L10.3 9.45l-7.72 7.72c-.78.78-.78 2.05 0 2.83L4 21.41c.39.39.9.59 1.41.59.51 0 1.02-.2 1.41-.59l7.78-7.78 2.81-2.81c.8-.78.8-2.07 0-2.86zM5.41 20L4 18.59l7.72-7.72 1.47 1.35L5.41 20z\"/>\n",
              "  </svg>\n",
              "      </button>\n",
              "      \n",
              "  <style>\n",
              "    .colab-df-container {\n",
              "      display:flex;\n",
              "      flex-wrap:wrap;\n",
              "      gap: 12px;\n",
              "    }\n",
              "\n",
              "    .colab-df-convert {\n",
              "      background-color: #E8F0FE;\n",
              "      border: none;\n",
              "      border-radius: 50%;\n",
              "      cursor: pointer;\n",
              "      display: none;\n",
              "      fill: #1967D2;\n",
              "      height: 32px;\n",
              "      padding: 0 0 0 0;\n",
              "      width: 32px;\n",
              "    }\n",
              "\n",
              "    .colab-df-convert:hover {\n",
              "      background-color: #E2EBFA;\n",
              "      box-shadow: 0px 1px 2px rgba(60, 64, 67, 0.3), 0px 1px 3px 1px rgba(60, 64, 67, 0.15);\n",
              "      fill: #174EA6;\n",
              "    }\n",
              "\n",
              "    [theme=dark] .colab-df-convert {\n",
              "      background-color: #3B4455;\n",
              "      fill: #D2E3FC;\n",
              "    }\n",
              "\n",
              "    [theme=dark] .colab-df-convert:hover {\n",
              "      background-color: #434B5C;\n",
              "      box-shadow: 0px 1px 3px 1px rgba(0, 0, 0, 0.15);\n",
              "      filter: drop-shadow(0px 1px 2px rgba(0, 0, 0, 0.3));\n",
              "      fill: #FFFFFF;\n",
              "    }\n",
              "  </style>\n",
              "\n",
              "      <script>\n",
              "        const buttonEl =\n",
              "          document.querySelector('#df-aff9b25e-8d6a-4229-9c0a-c4424d46cf05 button.colab-df-convert');\n",
              "        buttonEl.style.display =\n",
              "          google.colab.kernel.accessAllowed ? 'block' : 'none';\n",
              "\n",
              "        async function convertToInteractive(key) {\n",
              "          const element = document.querySelector('#df-aff9b25e-8d6a-4229-9c0a-c4424d46cf05');\n",
              "          const dataTable =\n",
              "            await google.colab.kernel.invokeFunction('convertToInteractive',\n",
              "                                                     [key], {});\n",
              "          if (!dataTable) return;\n",
              "\n",
              "          const docLinkHtml = 'Like what you see? Visit the ' +\n",
              "            '<a target=\"_blank\" href=https://colab.research.google.com/notebooks/data_table.ipynb>data table notebook</a>'\n",
              "            + ' to learn more about interactive tables.';\n",
              "          element.innerHTML = '';\n",
              "          dataTable['output_type'] = 'display_data';\n",
              "          await google.colab.output.renderOutput(dataTable, element);\n",
              "          const docLink = document.createElement('div');\n",
              "          docLink.innerHTML = docLinkHtml;\n",
              "          element.appendChild(docLink);\n",
              "        }\n",
              "      </script>\n",
              "    </div>\n",
              "  </div>\n",
              "  "
            ],
            "text/plain": [
              "             _id   avgBikes  stdBikes  ...  maxLatitude  minLongitude  maxLongitude\n",
              "0  BIKE-ELECTRIC   6.176166  3.574704  ...    41.427727      2.114973      2.221230\n",
              "1           BIKE  11.608342  9.006285  ...    41.450634      2.111615      2.221153\n",
              "\n",
              "[2 rows x 11 columns]"
            ]
          },
          "metadata": {},
          "execution_count": 70
        }
      ]
    },
    {
      "cell_type": "markdown",
      "source": [
        "We select some stations and see the availability of bicycles throughout the 24 hours of the day.\n",
        "\n",
        "We select the stations `[2,458, 47, 103]` on the date `2018-12-15`\n",
        "\n",
        "Then we plot the time series"
      ],
      "metadata": {
        "id": "NFeO-bV8YM0J"
      }
    },
    {
      "cell_type": "code",
      "source": [
        "ids= [2,458, 47, 103]\n",
        "start = datetime(2018, 12, 15, 0, 0, 0)\n",
        "end = datetime(2018, 12, 16, 0, 0, 0)\n",
        "filters = {\"id\": {\"$in\": ids}, 'updateTime': {'$lt': end, '$gte': start}}\n",
        "fields = {\"id\",'bikes','updateTime'}\n",
        "query = list( mycol.find(filters,fields))\n",
        "sns.lineplot(data=pd.DataFrame(query)[list(fields)], \n",
        "             x=\"updateTime\", \n",
        "             y=\"bikes\", \n",
        "             hue=\"id\")\n",
        "plt.show()"
      ],
      "metadata": {
        "colab": {
          "base_uri": "https://localhost:8080/",
          "height": 441
        },
        "id": "g7oKf5pLl8o9",
        "outputId": "d1b1816a-4835-4fbe-f8d3-b65fe3e6404d"
      },
      "execution_count": null,
      "outputs": [
        {
          "output_type": "display_data",
          "data": {
            "image/png": "[encoded data removed]",
            "text/plain": [
              "<Figure size 1440x504 with 1 Axes>"
            ]
          },
          "metadata": {}
        }
      ]
    },
    {
      "cell_type": "markdown",
      "source": [
        "We see the availability of bicycles in December"
      ],
      "metadata": {
        "id": "MOqjULmCZir8"
      }
    },
    {
      "cell_type": "code",
      "source": [
        "ids= [2,458, 47, 103]\n",
        "filters = {\"id\": {\"$in\": ids}}\n",
        "fields = {'id', 'bikes','updateTime'}\n",
        "query = list( mycol.find(filters,fields))\n",
        "sns.lineplot(data=pd.DataFrame(query)[list(fields)], \n",
        "             x=\"updateTime\", \n",
        "             y=\"bikes\", \n",
        "             hue=\"id\")\n",
        "plt.show()"
      ],
      "metadata": {
        "colab": {
          "base_uri": "https://localhost:8080/",
          "height": 441
        },
        "id": "fYmq8EMHVfxD",
        "outputId": "bbc69d6b-9d67-4634-d72c-205ea29ba6ce"
      },
      "execution_count": null,
      "outputs": [
        {
          "output_type": "display_data",
          "data": {
            "image/png": "[encoded data removed]",
            "text/plain": [
              "<Figure size 1440x504 with 1 Axes>"
            ]
          },
          "metadata": {}
        }
      ]
    },
    {
      "cell_type": "markdown",
      "metadata": {
        "id": "N-R7YvnAqIso"
      },
      "source": [
        "We select the electric bicycle stations that have 4 bicycles or less at a given time.\n",
        "We print an alert message and show its locations on a map."
      ]
    },
    {
      "cell_type": "markdown",
      "metadata": {
        "id": "fOwFF5xG5fD4"
      },
      "source": [
        "##6. Mark Bicing stations in map"
      ]
    },
    {
      "cell_type": "code",
      "source": [
        "stationType = 'BIKE-ELECTRIC'\n",
        "availableBikes = 4\n",
        "timeStamp = datetime(2018, 11, 30, 23, 59, 14)\n",
        "\n",
        "filters = {'type':  stationType ,'bikes' : {'$lte' : availableBikes },'updateTime' : {'$eq' : timeStamp}} \n",
        "fields = {'latitude' , 'longitude', 'bikes', 'slots'}\n",
        "query = list( mycol.find(filters,fields))\n",
        "\n",
        "print ('ALERT\\nOn {} {} {} stations have {} bikes or less'.format(timeStamp,len(query), stationType, availableBikes))\n",
        "\n",
        "locationmap = folium.Map(location = [41.378, 2.139], \n",
        "                         zoom_start = 12)\n",
        "for i in range(len(query)):\n",
        "    info = \"Bikes:{}\\nSlots:{}\".format(query[i]['bikes'],query[i]['slots'])\n",
        "    folium.Marker(location = [query[i]['latitude'],query[i]['longitude']],\n",
        "                  popup = info,\n",
        "                  icon = folium.Icon(color='red')).add_to(locationmap)\n",
        "locationmap"
      ],
      "metadata": {
        "id": "Ydm-VuHUEr6_",
        "colab": {
          "base_uri": "https://localhost:8080/",
          "height": 928
        },
        "outputId": "b1e62dec-7b8e-40f6-8d39-19675a09515a"
      },
      "execution_count": null,
      "outputs": [
        {
          "output_type": "stream",
          "name": "stdout",
          "text": [
            "ALERT\n",
            "On 2018-11-30 23:59:14 9 BIKE-ELECTRIC stations have 4 bikes or less\n"
          ]
        },
        {
          "output_type": "execute_result",
          "data": {
            "text/html": [
              "<div style=\"width:100%;\"><div style=\"position:relative;width:100%;height:0;padding-bottom:60%;\"><span style=\"color:#565656\">Make this Notebook Trusted to load map: File -> Trust Notebook</span><iframe src=\"about:blank\" style=\"position:absolute;width:100%;height:100%;left:0;top:0;border:none !important;\" data-html=%3C%21DOCTYPE%20html%3E%0A%3Chead%3E%20%20%20%20%0A%20%20%20%20%3Cmeta%20http-equiv%3D%22content-type%22%20content%3D%22text/html%3B%20charset%3DUTF-8%22%20/%3E%0A%20%20%20%20%3Cscript%3EL_PREFER_CANVAS%3Dfalse%3B%20L_NO_TOUCH%3Dfalse%3B%20L_DISABLE_3D%3Dfalse%3B%3C/script%3E%0A%20%20%20%20%3Cscript%20src%3D%22https%3A//cdn.jsdelivr.net/npm/leaflet%401.4.0/dist/leaflet.js%22%3E%3C/script%3E%0A%20%20%20%20%3Cscript%20src%3D%22https%3A//code.jquery.com/jquery-1.12.4.min.js%22%3E%3C/script%3E%0A%20%20%20%20%3Cscript%20src%3D%22https%3A//maxcdn.bootstrapcdn.com/bootstrap/3.2.0/js/bootstrap.min.js%22%3E%3C/script%3E%0A%20%20%20%20%3Cscript%20src%3D%22https%3A//cdnjs.cloudflare.com/ajax/libs/Leaflet.awesome-markers/2.0.2/leaflet.awesome-markers.js%22%3E%3C/script%3E%0A%20%20%20%20%3Clink%20rel%3D%22stylesheet%22%20href%3D%22https%3A//cdn.jsdelivr.net/npm/leaflet%401.4.0/dist/leaflet.css%22/%3E%0A%20%20%20%20%3Clink%20rel%3D%22stylesheet%22%20href%3D%22https%3A//maxcdn.bootstrapcdn.com/bootstrap/3.2.0/css/bootstrap.min.css%22/%3E%0A%20%20%20%20%3Clink%20rel%3D%22stylesheet%22%20href%3D%22https%3A//maxcdn.bootstrapcdn.com/bootstrap/3.2.0/css/bootstrap-theme.min.css%22/%3E%0A%20%20%20%20%3Clink%20rel%3D%22stylesheet%22%20href%3D%22https%3A//maxcdn.bootstrapcdn.com/font-awesome/4.6.3/css/font-awesome.min.css%22/%3E%0A%20%20%20%20%3Clink%20rel%3D%22stylesheet%22%20href%3D%22https%3A//cdnjs.cloudflare.com/ajax/libs/Leaflet.awesome-markers/2.0.2/leaflet.awesome-markers.css%22/%3E%0A%20%20%20%20%3Clink%20rel%3D%22stylesheet%22%20href%3D%22https%3A//rawcdn.githack.com/python-visualization/folium/master/folium/templates/leaflet.awesome.rotate.css%22/%3E%0A%20%20%20%20%3Cstyle%3Ehtml%2C%20body%20%7Bwidth%3A%20100%25%3Bheight%3A%20100%25%3Bmargin%3A%200%3Bpadding%3A%200%3B%7D%3C/style%3E%0A%20%20%20%20%3Cstyle%3E%23map%20%7Bposition%3Aabsolute%3Btop%3A0%3Bbottom%3A0%3Bright%3A0%3Bleft%3A0%3B%7D%3C/style%3E%0A%20%20%20%20%0A%20%20%20%20%3Cmeta%20name%3D%22viewport%22%20content%3D%22width%3Ddevice-width%2C%0A%20%20%20%20%20%20%20%20initial-scale%3D1.0%2C%20maximum-scale%3D1.0%2C%20user-scalable%3Dno%22%20/%3E%0A%20%20%20%20%3Cstyle%3E%23map_d684aa4754aa4fe988ae202e2124a2ae%20%7B%0A%20%20%20%20%20%20%20%20position%3A%20relative%3B%0A%20%20%20%20%20%20%20%20width%3A%20100.0%25%3B%0A%20%20%20%20%20%20%20%20height%3A%20100.0%25%3B%0A%20%20%20%20%20%20%20%20left%3A%200.0%25%3B%0A%20%20%20%20%20%20%20%20top%3A%200.0%25%3B%0A%20%20%20%20%20%20%20%20%7D%0A%20%20%20%20%3C/style%3E%0A%3C/head%3E%0A%3Cbody%3E%20%20%20%20%0A%20%20%20%20%0A%20%20%20%20%3Cdiv%20class%3D%22folium-map%22%20id%3D%22map_d684aa4754aa4fe988ae202e2124a2ae%22%20%3E%3C/div%3E%0A%3C/body%3E%0A%3Cscript%3E%20%20%20%20%0A%20%20%20%20%0A%20%20%20%20%0A%20%20%20%20%20%20%20%20var%20bounds%20%3D%20null%3B%0A%20%20%20%20%0A%0A%20%20%20%20var%20map_d684aa4754aa4fe988ae202e2124a2ae%20%3D%20L.map%28%0A%20%20%20%20%20%20%20%20%27map_d684aa4754aa4fe988ae202e2124a2ae%27%2C%20%7B%0A%20%20%20%20%20%20%20%20center%3A%20%5B41.378%2C%202.139%5D%2C%0A%20%20%20%20%20%20%20%20zoom%3A%2012%2C%0A%20%20%20%20%20%20%20%20maxBounds%3A%20bounds%2C%0A%20%20%20%20%20%20%20%20layers%3A%20%5B%5D%2C%0A%20%20%20%20%20%20%20%20worldCopyJump%3A%20false%2C%0A%20%20%20%20%20%20%20%20crs%3A%20L.CRS.EPSG3857%2C%0A%20%20%20%20%20%20%20%20zoomControl%3A%20true%2C%0A%20%20%20%20%20%20%20%20%7D%29%3B%0A%0A%0A%20%20%20%20%0A%20%20%20%20var%20tile_layer_7d3710484fe6422ba855e432f633e4e0%20%3D%20L.tileLayer%28%0A%20%20%20%20%20%20%20%20%27https%3A//%7Bs%7D.tile.openstreetmap.org/%7Bz%7D/%7Bx%7D/%7By%7D.png%27%2C%0A%20%20%20%20%20%20%20%20%7B%0A%20%20%20%20%20%20%20%20%22attribution%22%3A%20null%2C%0A%20%20%20%20%20%20%20%20%22detectRetina%22%3A%20false%2C%0A%20%20%20%20%20%20%20%20%22maxNativeZoom%22%3A%2018%2C%0A%20%20%20%20%20%20%20%20%22maxZoom%22%3A%2018%2C%0A%20%20%20%20%20%20%20%20%22minZoom%22%3A%200%2C%0A%20%20%20%20%20%20%20%20%22noWrap%22%3A%20false%2C%0A%20%20%20%20%20%20%20%20%22opacity%22%3A%201%2C%0A%20%20%20%20%20%20%20%20%22subdomains%22%3A%20%22abc%22%2C%0A%20%20%20%20%20%20%20%20%22tms%22%3A%20false%0A%7D%29.addTo%28map_d684aa4754aa4fe988ae202e2124a2ae%29%3B%0A%20%20%20%20%0A%20%20%20%20%20%20%20%20var%20marker_eeb4f5986cce466b825f0f98bf65e836%20%3D%20L.marker%28%0A%20%20%20%20%20%20%20%20%20%20%20%20%5B41.398747%2C%202.186289%5D%2C%0A%20%20%20%20%20%20%20%20%20%20%20%20%7B%0A%20%20%20%20%20%20%20%20%20%20%20%20%20%20%20%20icon%3A%20new%20L.Icon.Default%28%29%2C%0A%20%20%20%20%20%20%20%20%20%20%20%20%20%20%20%20%7D%0A%20%20%20%20%20%20%20%20%20%20%20%20%29.addTo%28map_d684aa4754aa4fe988ae202e2124a2ae%29%3B%0A%20%20%20%20%20%20%20%20%0A%20%20%20%20%0A%0A%20%20%20%20%20%20%20%20%20%20%20%20%20%20%20%20var%20icon_95cde82a7b5f44658a2588b07712adf3%20%3D%20L.AwesomeMarkers.icon%28%7B%0A%20%20%20%20%20%20%20%20%20%20%20%20%20%20%20%20%20%20%20%20icon%3A%20%27info-sign%27%2C%0A%20%20%20%20%20%20%20%20%20%20%20%20%20%20%20%20%20%20%20%20iconColor%3A%20%27white%27%2C%0A%20%20%20%20%20%20%20%20%20%20%20%20%20%20%20%20%20%20%20%20markerColor%3A%20%27red%27%2C%0A%20%20%20%20%20%20%20%20%20%20%20%20%20%20%20%20%20%20%20%20prefix%3A%20%27glyphicon%27%2C%0A%20%20%20%20%20%20%20%20%20%20%20%20%20%20%20%20%20%20%20%20extraClasses%3A%20%27fa-rotate-0%27%0A%20%20%20%20%20%20%20%20%20%20%20%20%20%20%20%20%20%20%20%20%7D%29%3B%0A%20%20%20%20%20%20%20%20%20%20%20%20%20%20%20%20marker_eeb4f5986cce466b825f0f98bf65e836.setIcon%28icon_95cde82a7b5f44658a2588b07712adf3%29%3B%0A%20%20%20%20%20%20%20%20%20%20%20%20%0A%20%20%20%20%0A%20%20%20%20%20%20%20%20%20%20%20%20var%20popup_003e7e68c123412087c7ece6c08f7403%20%3D%20L.popup%28%7BmaxWidth%3A%20%27100%25%27%0A%20%20%20%20%20%20%20%20%20%20%20%20%0A%20%20%20%20%20%20%20%20%20%20%20%20%7D%29%3B%0A%0A%20%20%20%20%20%20%20%20%20%20%20%20%0A%20%20%20%20%20%20%20%20%20%20%20%20%20%20%20%20var%20html_6ac1de5293fb40d1ac85581e33531312%20%3D%20%24%28%60%3Cdiv%20id%3D%22html_6ac1de5293fb40d1ac85581e33531312%22%20style%3D%22width%3A%20100.0%25%3B%20height%3A%20100.0%25%3B%22%3EBikes%3A3%20Slots%3A7%3C/div%3E%60%29%5B0%5D%3B%0A%20%20%20%20%20%20%20%20%20%20%20%20%20%20%20%20popup_003e7e68c123412087c7ece6c08f7403.setContent%28html_6ac1de5293fb40d1ac85581e33531312%29%3B%0A%20%20%20%20%20%20%20%20%20%20%20%20%0A%0A%20%20%20%20%20%20%20%20%20%20%20%20marker_eeb4f5986cce466b825f0f98bf65e836.bindPopup%28popup_003e7e68c123412087c7ece6c08f7403%29%0A%20%20%20%20%20%20%20%20%20%20%20%20%3B%0A%0A%20%20%20%20%20%20%20%20%20%20%20%20%0A%20%20%20%20%20%20%20%20%0A%20%20%20%20%0A%20%20%20%20%20%20%20%20var%20marker_9a6fa627dbe14d59b7d702bdaee774d3%20%3D%20L.marker%28%0A%20%20%20%20%20%20%20%20%20%20%20%20%5B41.379563%2C%202.16204%5D%2C%0A%20%20%20%20%20%20%20%20%20%20%20%20%7B%0A%20%20%20%20%20%20%20%20%20%20%20%20%20%20%20%20icon%3A%20new%20L.Icon.Default%28%29%2C%0A%20%20%20%20%20%20%20%20%20%20%20%20%20%20%20%20%7D%0A%20%20%20%20%20%20%20%20%20%20%20%20%29.addTo%28map_d684aa4754aa4fe988ae202e2124a2ae%29%3B%0A%20%20%20%20%20%20%20%20%0A%20%20%20%20%0A%0A%20%20%20%20%20%20%20%20%20%20%20%20%20%20%20%20var%20icon_b55e666033a1464f8c23332538bd3edc%20%3D%20L.AwesomeMarkers.icon%28%7B%0A%20%20%20%20%20%20%20%20%20%20%20%20%20%20%20%20%20%20%20%20icon%3A%20%27info-sign%27%2C%0A%20%20%20%20%20%20%20%20%20%20%20%20%20%20%20%20%20%20%20%20iconColor%3A%20%27white%27%2C%0A%20%20%20%20%20%20%20%20%20%20%20%20%20%20%20%20%20%20%20%20markerColor%3A%20%27red%27%2C%0A%20%20%20%20%20%20%20%20%20%20%20%20%20%20%20%20%20%20%20%20prefix%3A%20%27glyphicon%27%2C%0A%20%20%20%20%20%20%20%20%20%20%20%20%20%20%20%20%20%20%20%20extraClasses%3A%20%27fa-rotate-0%27%0A%20%20%20%20%20%20%20%20%20%20%20%20%20%20%20%20%20%20%20%20%7D%29%3B%0A%20%20%20%20%20%20%20%20%20%20%20%20%20%20%20%20marker_9a6fa627dbe14d59b7d702bdaee774d3.setIcon%28icon_b55e666033a1464f8c23332538bd3edc%29%3B%0A%20%20%20%20%20%20%20%20%20%20%20%20%0A%20%20%20%20%0A%20%20%20%20%20%20%20%20%20%20%20%20var%20popup_1dbbd68d346f4b5b906ad87c14a33a43%20%3D%20L.popup%28%7BmaxWidth%3A%20%27100%25%27%0A%20%20%20%20%20%20%20%20%20%20%20%20%0A%20%20%20%20%20%20%20%20%20%20%20%20%7D%29%3B%0A%0A%20%20%20%20%20%20%20%20%20%20%20%20%0A%20%20%20%20%20%20%20%20%20%20%20%20%20%20%20%20var%20html_451eda175a4f4d35a550f71fb3fa6232%20%3D%20%24%28%60%3Cdiv%20id%3D%22html_451eda175a4f4d35a550f71fb3fa6232%22%20style%3D%22width%3A%20100.0%25%3B%20height%3A%20100.0%25%3B%22%3EBikes%3A3%20Slots%3A7%3C/div%3E%60%29%5B0%5D%3B%0A%20%20%20%20%20%20%20%20%20%20%20%20%20%20%20%20popup_1dbbd68d346f4b5b906ad87c14a33a43.setContent%28html_451eda175a4f4d35a550f71fb3fa6232%29%3B%0A%20%20%20%20%20%20%20%20%20%20%20%20%0A%0A%20%20%20%20%20%20%20%20%20%20%20%20marker_9a6fa627dbe14d59b7d702bdaee774d3.bindPopup%28popup_1dbbd68d346f4b5b906ad87c14a33a43%29%0A%20%20%20%20%20%20%20%20%20%20%20%20%3B%0A%0A%20%20%20%20%20%20%20%20%20%20%20%20%0A%20%20%20%20%20%20%20%20%0A%20%20%20%20%0A%20%20%20%20%20%20%20%20var%20marker_54ba26f14f304cd6be2314d113dd8bc7%20%3D%20L.marker%28%0A%20%20%20%20%20%20%20%20%20%20%20%20%5B41.402448%2C%202.204131%5D%2C%0A%20%20%20%20%20%20%20%20%20%20%20%20%7B%0A%20%20%20%20%20%20%20%20%20%20%20%20%20%20%20%20icon%3A%20new%20L.Icon.Default%28%29%2C%0A%20%20%20%20%20%20%20%20%20%20%20%20%20%20%20%20%7D%0A%20%20%20%20%20%20%20%20%20%20%20%20%29.addTo%28map_d684aa4754aa4fe988ae202e2124a2ae%29%3B%0A%20%20%20%20%20%20%20%20%0A%20%20%20%20%0A%0A%20%20%20%20%20%20%20%20%20%20%20%20%20%20%20%20var%20icon_5856171c995946768f0fb5564f1a140c%20%3D%20L.AwesomeMarkers.icon%28%7B%0A%20%20%20%20%20%20%20%20%20%20%20%20%20%20%20%20%20%20%20%20icon%3A%20%27info-sign%27%2C%0A%20%20%20%20%20%20%20%20%20%20%20%20%20%20%20%20%20%20%20%20iconColor%3A%20%27white%27%2C%0A%20%20%20%20%20%20%20%20%20%20%20%20%20%20%20%20%20%20%20%20markerColor%3A%20%27red%27%2C%0A%20%20%20%20%20%20%20%20%20%20%20%20%20%20%20%20%20%20%20%20prefix%3A%20%27glyphicon%27%2C%0A%20%20%20%20%20%20%20%20%20%20%20%20%20%20%20%20%20%20%20%20extraClasses%3A%20%27fa-rotate-0%27%0A%20%20%20%20%20%20%20%20%20%20%20%20%20%20%20%20%20%20%20%20%7D%29%3B%0A%20%20%20%20%20%20%20%20%20%20%20%20%20%20%20%20marker_54ba26f14f304cd6be2314d113dd8bc7.setIcon%28icon_5856171c995946768f0fb5564f1a140c%29%3B%0A%20%20%20%20%20%20%20%20%20%20%20%20%0A%20%20%20%20%0A%20%20%20%20%20%20%20%20%20%20%20%20var%20popup_09e3771461984cc59cc293d3208b6650%20%3D%20L.popup%28%7BmaxWidth%3A%20%27100%25%27%0A%20%20%20%20%20%20%20%20%20%20%20%20%0A%20%20%20%20%20%20%20%20%20%20%20%20%7D%29%3B%0A%0A%20%20%20%20%20%20%20%20%20%20%20%20%0A%20%20%20%20%20%20%20%20%20%20%20%20%20%20%20%20var%20html_dcc4f0662dcf4e969676f161049a6e5a%20%3D%20%24%28%60%3Cdiv%20id%3D%22html_dcc4f0662dcf4e969676f161049a6e5a%22%20style%3D%22width%3A%20100.0%25%3B%20height%3A%20100.0%25%3B%22%3EBikes%3A4%20Slots%3A7%3C/div%3E%60%29%5B0%5D%3B%0A%20%20%20%20%20%20%20%20%20%20%20%20%20%20%20%20popup_09e3771461984cc59cc293d3208b6650.setContent%28html_dcc4f0662dcf4e969676f161049a6e5a%29%3B%0A%20%20%20%20%20%20%20%20%20%20%20%20%0A%0A%20%20%20%20%20%20%20%20%20%20%20%20marker_54ba26f14f304cd6be2314d113dd8bc7.bindPopup%28popup_09e3771461984cc59cc293d3208b6650%29%0A%20%20%20%20%20%20%20%20%20%20%20%20%3B%0A%0A%20%20%20%20%20%20%20%20%20%20%20%20%0A%20%20%20%20%20%20%20%20%0A%20%20%20%20%0A%20%20%20%20%20%20%20%20var%20marker_ef13f69d7fcd4373bb8a562e5c095e06%20%3D%20L.marker%28%0A%20%20%20%20%20%20%20%20%20%20%20%20%5B41.401519%2C%202.134235%5D%2C%0A%20%20%20%20%20%20%20%20%20%20%20%20%7B%0A%20%20%20%20%20%20%20%20%20%20%20%20%20%20%20%20icon%3A%20new%20L.Icon.Default%28%29%2C%0A%20%20%20%20%20%20%20%20%20%20%20%20%20%20%20%20%7D%0A%20%20%20%20%20%20%20%20%20%20%20%20%29.addTo%28map_d684aa4754aa4fe988ae202e2124a2ae%29%3B%0A%20%20%20%20%20%20%20%20%0A%20%20%20%20%0A%0A%20%20%20%20%20%20%20%20%20%20%20%20%20%20%20%20var%20icon_3567325081b84ca1982fc6ffa3c5065d%20%3D%20L.AwesomeMarkers.icon%28%7B%0A%20%20%20%20%20%20%20%20%20%20%20%20%20%20%20%20%20%20%20%20icon%3A%20%27info-sign%27%2C%0A%20%20%20%20%20%20%20%20%20%20%20%20%20%20%20%20%20%20%20%20iconColor%3A%20%27white%27%2C%0A%20%20%20%20%20%20%20%20%20%20%20%20%20%20%20%20%20%20%20%20markerColor%3A%20%27red%27%2C%0A%20%20%20%20%20%20%20%20%20%20%20%20%20%20%20%20%20%20%20%20prefix%3A%20%27glyphicon%27%2C%0A%20%20%20%20%20%20%20%20%20%20%20%20%20%20%20%20%20%20%20%20extraClasses%3A%20%27fa-rotate-0%27%0A%20%20%20%20%20%20%20%20%20%20%20%20%20%20%20%20%20%20%20%20%7D%29%3B%0A%20%20%20%20%20%20%20%20%20%20%20%20%20%20%20%20marker_ef13f69d7fcd4373bb8a562e5c095e06.setIcon%28icon_3567325081b84ca1982fc6ffa3c5065d%29%3B%0A%20%20%20%20%20%20%20%20%20%20%20%20%0A%20%20%20%20%0A%20%20%20%20%20%20%20%20%20%20%20%20var%20popup_b83b8ed6505a4c03a6b760a7751f327a%20%3D%20L.popup%28%7BmaxWidth%3A%20%27100%25%27%0A%20%20%20%20%20%20%20%20%20%20%20%20%0A%20%20%20%20%20%20%20%20%20%20%20%20%7D%29%3B%0A%0A%20%20%20%20%20%20%20%20%20%20%20%20%0A%20%20%20%20%20%20%20%20%20%20%20%20%20%20%20%20var%20html_fe525989ac934969a946896d43cedfb4%20%3D%20%24%28%60%3Cdiv%20id%3D%22html_fe525989ac934969a946896d43cedfb4%22%20style%3D%22width%3A%20100.0%25%3B%20height%3A%20100.0%25%3B%22%3EBikes%3A2%20Slots%3A10%3C/div%3E%60%29%5B0%5D%3B%0A%20%20%20%20%20%20%20%20%20%20%20%20%20%20%20%20popup_b83b8ed6505a4c03a6b760a7751f327a.setContent%28html_fe525989ac934969a946896d43cedfb4%29%3B%0A%20%20%20%20%20%20%20%20%20%20%20%20%0A%0A%20%20%20%20%20%20%20%20%20%20%20%20marker_ef13f69d7fcd4373bb8a562e5c095e06.bindPopup%28popup_b83b8ed6505a4c03a6b760a7751f327a%29%0A%20%20%20%20%20%20%20%20%20%20%20%20%3B%0A%0A%20%20%20%20%20%20%20%20%20%20%20%20%0A%20%20%20%20%20%20%20%20%0A%20%20%20%20%0A%20%20%20%20%20%20%20%20var%20marker_b1b8ee26d2aa458ab6d9f0d7af8fda3a%20%3D%20L.marker%28%0A%20%20%20%20%20%20%20%20%20%20%20%20%5B41.375244%2C%202.169795%5D%2C%0A%20%20%20%20%20%20%20%20%20%20%20%20%7B%0A%20%20%20%20%20%20%20%20%20%20%20%20%20%20%20%20icon%3A%20new%20L.Icon.Default%28%29%2C%0A%20%20%20%20%20%20%20%20%20%20%20%20%20%20%20%20%7D%0A%20%20%20%20%20%20%20%20%20%20%20%20%29.addTo%28map_d684aa4754aa4fe988ae202e2124a2ae%29%3B%0A%20%20%20%20%20%20%20%20%0A%20%20%20%20%0A%0A%20%20%20%20%20%20%20%20%20%20%20%20%20%20%20%20var%20icon_b62ca9c17ad546ebb39febd64aa74261%20%3D%20L.AwesomeMarkers.icon%28%7B%0A%20%20%20%20%20%20%20%20%20%20%20%20%20%20%20%20%20%20%20%20icon%3A%20%27info-sign%27%2C%0A%20%20%20%20%20%20%20%20%20%20%20%20%20%20%20%20%20%20%20%20iconColor%3A%20%27white%27%2C%0A%20%20%20%20%20%20%20%20%20%20%20%20%20%20%20%20%20%20%20%20markerColor%3A%20%27red%27%2C%0A%20%20%20%20%20%20%20%20%20%20%20%20%20%20%20%20%20%20%20%20prefix%3A%20%27glyphicon%27%2C%0A%20%20%20%20%20%20%20%20%20%20%20%20%20%20%20%20%20%20%20%20extraClasses%3A%20%27fa-rotate-0%27%0A%20%20%20%20%20%20%20%20%20%20%20%20%20%20%20%20%20%20%20%20%7D%29%3B%0A%20%20%20%20%20%20%20%20%20%20%20%20%20%20%20%20marker_b1b8ee26d2aa458ab6d9f0d7af8fda3a.setIcon%28icon_b62ca9c17ad546ebb39febd64aa74261%29%3B%0A%20%20%20%20%20%20%20%20%20%20%20%20%0A%20%20%20%20%0A%20%20%20%20%20%20%20%20%20%20%20%20var%20popup_2598f123c6f942fb987e8ccf9c57bec4%20%3D%20L.popup%28%7BmaxWidth%3A%20%27100%25%27%0A%20%20%20%20%20%20%20%20%20%20%20%20%0A%20%20%20%20%20%20%20%20%20%20%20%20%7D%29%3B%0A%0A%20%20%20%20%20%20%20%20%20%20%20%20%0A%20%20%20%20%20%20%20%20%20%20%20%20%20%20%20%20var%20html_bb8f46db0af043368ba6ee69394bef81%20%3D%20%24%28%60%3Cdiv%20id%3D%22html_bb8f46db0af043368ba6ee69394bef81%22%20style%3D%22width%3A%20100.0%25%3B%20height%3A%20100.0%25%3B%22%3EBikes%3A2%20Slots%3A8%3C/div%3E%60%29%5B0%5D%3B%0A%20%20%20%20%20%20%20%20%20%20%20%20%20%20%20%20popup_2598f123c6f942fb987e8ccf9c57bec4.setContent%28html_bb8f46db0af043368ba6ee69394bef81%29%3B%0A%20%20%20%20%20%20%20%20%20%20%20%20%0A%0A%20%20%20%20%20%20%20%20%20%20%20%20marker_b1b8ee26d2aa458ab6d9f0d7af8fda3a.bindPopup%28popup_2598f123c6f942fb987e8ccf9c57bec4%29%0A%20%20%20%20%20%20%20%20%20%20%20%20%3B%0A%0A%20%20%20%20%20%20%20%20%20%20%20%20%0A%20%20%20%20%20%20%20%20%0A%20%20%20%20%0A%20%20%20%20%20%20%20%20var%20marker_73d1dd72f31d428bb8671d90d02ff238%20%3D%20L.marker%28%0A%20%20%20%20%20%20%20%20%20%20%20%20%5B41.427727%2C%202.177205%5D%2C%0A%20%20%20%20%20%20%20%20%20%20%20%20%7B%0A%20%20%20%20%20%20%20%20%20%20%20%20%20%20%20%20icon%3A%20new%20L.Icon.Default%28%29%2C%0A%20%20%20%20%20%20%20%20%20%20%20%20%20%20%20%20%7D%0A%20%20%20%20%20%20%20%20%20%20%20%20%29.addTo%28map_d684aa4754aa4fe988ae202e2124a2ae%29%3B%0A%20%20%20%20%20%20%20%20%0A%20%20%20%20%0A%0A%20%20%20%20%20%20%20%20%20%20%20%20%20%20%20%20var%20icon_bca664cf9e6b418f8f43a28e05c2e657%20%3D%20L.AwesomeMarkers.icon%28%7B%0A%20%20%20%20%20%20%20%20%20%20%20%20%20%20%20%20%20%20%20%20icon%3A%20%27info-sign%27%2C%0A%20%20%20%20%20%20%20%20%20%20%20%20%20%20%20%20%20%20%20%20iconColor%3A%20%27white%27%2C%0A%20%20%20%20%20%20%20%20%20%20%20%20%20%20%20%20%20%20%20%20markerColor%3A%20%27red%27%2C%0A%20%20%20%20%20%20%20%20%20%20%20%20%20%20%20%20%20%20%20%20prefix%3A%20%27glyphicon%27%2C%0A%20%20%20%20%20%20%20%20%20%20%20%20%20%20%20%20%20%20%20%20extraClasses%3A%20%27fa-rotate-0%27%0A%20%20%20%20%20%20%20%20%20%20%20%20%20%20%20%20%20%20%20%20%7D%29%3B%0A%20%20%20%20%20%20%20%20%20%20%20%20%20%20%20%20marker_73d1dd72f31d428bb8671d90d02ff238.setIcon%28icon_bca664cf9e6b418f8f43a28e05c2e657%29%3B%0A%20%20%20%20%20%20%20%20%20%20%20%20%0A%20%20%20%20%0A%20%20%20%20%20%20%20%20%20%20%20%20var%20popup_e6f77f1888fd46daa7403dcdfb85c12c%20%3D%20L.popup%28%7BmaxWidth%3A%20%27100%25%27%0A%20%20%20%20%20%20%20%20%20%20%20%20%0A%20%20%20%20%20%20%20%20%20%20%20%20%7D%29%3B%0A%0A%20%20%20%20%20%20%20%20%20%20%20%20%0A%20%20%20%20%20%20%20%20%20%20%20%20%20%20%20%20var%20html_bc9de341054a41a7b47eaf3fa30dc705%20%3D%20%24%28%60%3Cdiv%20id%3D%22html_bc9de341054a41a7b47eaf3fa30dc705%22%20style%3D%22width%3A%20100.0%25%3B%20height%3A%20100.0%25%3B%22%3EBikes%3A4%20Slots%3A8%3C/div%3E%60%29%5B0%5D%3B%0A%20%20%20%20%20%20%20%20%20%20%20%20%20%20%20%20popup_e6f77f1888fd46daa7403dcdfb85c12c.setContent%28html_bc9de341054a41a7b47eaf3fa30dc705%29%3B%0A%20%20%20%20%20%20%20%20%20%20%20%20%0A%0A%20%20%20%20%20%20%20%20%20%20%20%20marker_73d1dd72f31d428bb8671d90d02ff238.bindPopup%28popup_e6f77f1888fd46daa7403dcdfb85c12c%29%0A%20%20%20%20%20%20%20%20%20%20%20%20%3B%0A%0A%20%20%20%20%20%20%20%20%20%20%20%20%0A%20%20%20%20%20%20%20%20%0A%20%20%20%20%0A%20%20%20%20%20%20%20%20var%20marker_183da285c62d4cc08c5451d383168c2f%20%3D%20L.marker%28%0A%20%20%20%20%20%20%20%20%20%20%20%20%5B41.407353%2C%202.151341%5D%2C%0A%20%20%20%20%20%20%20%20%20%20%20%20%7B%0A%20%20%20%20%20%20%20%20%20%20%20%20%20%20%20%20icon%3A%20new%20L.Icon.Default%28%29%2C%0A%20%20%20%20%20%20%20%20%20%20%20%20%20%20%20%20%7D%0A%20%20%20%20%20%20%20%20%20%20%20%20%29.addTo%28map_d684aa4754aa4fe988ae202e2124a2ae%29%3B%0A%20%20%20%20%20%20%20%20%0A%20%20%20%20%0A%0A%20%20%20%20%20%20%20%20%20%20%20%20%20%20%20%20var%20icon_acbfe424faa54b2f968c164a5b9cd912%20%3D%20L.AwesomeMarkers.icon%28%7B%0A%20%20%20%20%20%20%20%20%20%20%20%20%20%20%20%20%20%20%20%20icon%3A%20%27info-sign%27%2C%0A%20%20%20%20%20%20%20%20%20%20%20%20%20%20%20%20%20%20%20%20iconColor%3A%20%27white%27%2C%0A%20%20%20%20%20%20%20%20%20%20%20%20%20%20%20%20%20%20%20%20markerColor%3A%20%27red%27%2C%0A%20%20%20%20%20%20%20%20%20%20%20%20%20%20%20%20%20%20%20%20prefix%3A%20%27glyphicon%27%2C%0A%20%20%20%20%20%20%20%20%20%20%20%20%20%20%20%20%20%20%20%20extraClasses%3A%20%27fa-rotate-0%27%0A%20%20%20%20%20%20%20%20%20%20%20%20%20%20%20%20%20%20%20%20%7D%29%3B%0A%20%20%20%20%20%20%20%20%20%20%20%20%20%20%20%20marker_183da285c62d4cc08c5451d383168c2f.setIcon%28icon_acbfe424faa54b2f968c164a5b9cd912%29%3B%0A%20%20%20%20%20%20%20%20%20%20%20%20%0A%20%20%20%20%0A%20%20%20%20%20%20%20%20%20%20%20%20var%20popup_3b1d082cbb4442a488d5011fc4a9cf9d%20%3D%20L.popup%28%7BmaxWidth%3A%20%27100%25%27%0A%20%20%20%20%20%20%20%20%20%20%20%20%0A%20%20%20%20%20%20%20%20%20%20%20%20%7D%29%3B%0A%0A%20%20%20%20%20%20%20%20%20%20%20%20%0A%20%20%20%20%20%20%20%20%20%20%20%20%20%20%20%20var%20html_2eb5f4d4ae274ecebca42d22d52e32a9%20%3D%20%24%28%60%3Cdiv%20id%3D%22html_2eb5f4d4ae274ecebca42d22d52e32a9%22%20style%3D%22width%3A%20100.0%25%3B%20height%3A%20100.0%25%3B%22%3EBikes%3A3%20Slots%3A7%3C/div%3E%60%29%5B0%5D%3B%0A%20%20%20%20%20%20%20%20%20%20%20%20%20%20%20%20popup_3b1d082cbb4442a488d5011fc4a9cf9d.setContent%28html_2eb5f4d4ae274ecebca42d22d52e32a9%29%3B%0A%20%20%20%20%20%20%20%20%20%20%20%20%0A%0A%20%20%20%20%20%20%20%20%20%20%20%20marker_183da285c62d4cc08c5451d383168c2f.bindPopup%28popup_3b1d082cbb4442a488d5011fc4a9cf9d%29%0A%20%20%20%20%20%20%20%20%20%20%20%20%3B%0A%0A%20%20%20%20%20%20%20%20%20%20%20%20%0A%20%20%20%20%20%20%20%20%0A%20%20%20%20%0A%20%20%20%20%20%20%20%20var%20marker_dc9a54f3395d4952a52a5041fc916db5%20%3D%20L.marker%28%0A%20%20%20%20%20%20%20%20%20%20%20%20%5B41.376648%2C%202.178745%5D%2C%0A%20%20%20%20%20%20%20%20%20%20%20%20%7B%0A%20%20%20%20%20%20%20%20%20%20%20%20%20%20%20%20icon%3A%20new%20L.Icon.Default%28%29%2C%0A%20%20%20%20%20%20%20%20%20%20%20%20%20%20%20%20%7D%0A%20%20%20%20%20%20%20%20%20%20%20%20%29.addTo%28map_d684aa4754aa4fe988ae202e2124a2ae%29%3B%0A%20%20%20%20%20%20%20%20%0A%20%20%20%20%0A%0A%20%20%20%20%20%20%20%20%20%20%20%20%20%20%20%20var%20icon_4774afcce7e440999c90208a835ad3c3%20%3D%20L.AwesomeMarkers.icon%28%7B%0A%20%20%20%20%20%20%20%20%20%20%20%20%20%20%20%20%20%20%20%20icon%3A%20%27info-sign%27%2C%0A%20%20%20%20%20%20%20%20%20%20%20%20%20%20%20%20%20%20%20%20iconColor%3A%20%27white%27%2C%0A%20%20%20%20%20%20%20%20%20%20%20%20%20%20%20%20%20%20%20%20markerColor%3A%20%27red%27%2C%0A%20%20%20%20%20%20%20%20%20%20%20%20%20%20%20%20%20%20%20%20prefix%3A%20%27glyphicon%27%2C%0A%20%20%20%20%20%20%20%20%20%20%20%20%20%20%20%20%20%20%20%20extraClasses%3A%20%27fa-rotate-0%27%0A%20%20%20%20%20%20%20%20%20%20%20%20%20%20%20%20%20%20%20%20%7D%29%3B%0A%20%20%20%20%20%20%20%20%20%20%20%20%20%20%20%20marker_dc9a54f3395d4952a52a5041fc916db5.setIcon%28icon_4774afcce7e440999c90208a835ad3c3%29%3B%0A%20%20%20%20%20%20%20%20%20%20%20%20%0A%20%20%20%20%0A%20%20%20%20%20%20%20%20%20%20%20%20var%20popup_8c6ab07e8e14479d805714e16e865fad%20%3D%20L.popup%28%7BmaxWidth%3A%20%27100%25%27%0A%20%20%20%20%20%20%20%20%20%20%20%20%0A%20%20%20%20%20%20%20%20%20%20%20%20%7D%29%3B%0A%0A%20%20%20%20%20%20%20%20%20%20%20%20%0A%20%20%20%20%20%20%20%20%20%20%20%20%20%20%20%20var%20html_c63f3c2962b747968a65ec0b6767798e%20%3D%20%24%28%60%3Cdiv%20id%3D%22html_c63f3c2962b747968a65ec0b6767798e%22%20style%3D%22width%3A%20100.0%25%3B%20height%3A%20100.0%25%3B%22%3EBikes%3A4%20Slots%3A6%3C/div%3E%60%29%5B0%5D%3B%0A%20%20%20%20%20%20%20%20%20%20%20%20%20%20%20%20popup_8c6ab07e8e14479d805714e16e865fad.setContent%28html_c63f3c2962b747968a65ec0b6767798e%29%3B%0A%20%20%20%20%20%20%20%20%20%20%20%20%0A%0A%20%20%20%20%20%20%20%20%20%20%20%20marker_dc9a54f3395d4952a52a5041fc916db5.bindPopup%28popup_8c6ab07e8e14479d805714e16e865fad%29%0A%20%20%20%20%20%20%20%20%20%20%20%20%3B%0A%0A%20%20%20%20%20%20%20%20%20%20%20%20%0A%20%20%20%20%20%20%20%20%0A%20%20%20%20%0A%20%20%20%20%20%20%20%20var%20marker_69789bd0bbc2457ebdc29ab08fb2ea80%20%3D%20L.marker%28%0A%20%20%20%20%20%20%20%20%20%20%20%20%5B41.409532%2C%202.188282%5D%2C%0A%20%20%20%20%20%20%20%20%20%20%20%20%7B%0A%20%20%20%20%20%20%20%20%20%20%20%20%20%20%20%20icon%3A%20new%20L.Icon.Default%28%29%2C%0A%20%20%20%20%20%20%20%20%20%20%20%20%20%20%20%20%7D%0A%20%20%20%20%20%20%20%20%20%20%20%20%29.addTo%28map_d684aa4754aa4fe988ae202e2124a2ae%29%3B%0A%20%20%20%20%20%20%20%20%0A%20%20%20%20%0A%0A%20%20%20%20%20%20%20%20%20%20%20%20%20%20%20%20var%20icon_74ae8e69b12f4d3c846f8296989cdf1f%20%3D%20L.AwesomeMarkers.icon%28%7B%0A%20%20%20%20%20%20%20%20%20%20%20%20%20%20%20%20%20%20%20%20icon%3A%20%27info-sign%27%2C%0A%20%20%20%20%20%20%20%20%20%20%20%20%20%20%20%20%20%20%20%20iconColor%3A%20%27white%27%2C%0A%20%20%20%20%20%20%20%20%20%20%20%20%20%20%20%20%20%20%20%20markerColor%3A%20%27red%27%2C%0A%20%20%20%20%20%20%20%20%20%20%20%20%20%20%20%20%20%20%20%20prefix%3A%20%27glyphicon%27%2C%0A%20%20%20%20%20%20%20%20%20%20%20%20%20%20%20%20%20%20%20%20extraClasses%3A%20%27fa-rotate-0%27%0A%20%20%20%20%20%20%20%20%20%20%20%20%20%20%20%20%20%20%20%20%7D%29%3B%0A%20%20%20%20%20%20%20%20%20%20%20%20%20%20%20%20marker_69789bd0bbc2457ebdc29ab08fb2ea80.setIcon%28icon_74ae8e69b12f4d3c846f8296989cdf1f%29%3B%0A%20%20%20%20%20%20%20%20%20%20%20%20%0A%20%20%20%20%0A%20%20%20%20%20%20%20%20%20%20%20%20var%20popup_f286a310d5794171908504e63b34fc15%20%3D%20L.popup%28%7BmaxWidth%3A%20%27100%25%27%0A%20%20%20%20%20%20%20%20%20%20%20%20%0A%20%20%20%20%20%20%20%20%20%20%20%20%7D%29%3B%0A%0A%20%20%20%20%20%20%20%20%20%20%20%20%0A%20%20%20%20%20%20%20%20%20%20%20%20%20%20%20%20var%20html_87b520e5c03840bbb344d473bfaae69b%20%3D%20%24%28%60%3Cdiv%20id%3D%22html_87b520e5c03840bbb344d473bfaae69b%22%20style%3D%22width%3A%20100.0%25%3B%20height%3A%20100.0%25%3B%22%3EBikes%3A3%20Slots%3A9%3C/div%3E%60%29%5B0%5D%3B%0A%20%20%20%20%20%20%20%20%20%20%20%20%20%20%20%20popup_f286a310d5794171908504e63b34fc15.setContent%28html_87b520e5c03840bbb344d473bfaae69b%29%3B%0A%20%20%20%20%20%20%20%20%20%20%20%20%0A%0A%20%20%20%20%20%20%20%20%20%20%20%20marker_69789bd0bbc2457ebdc29ab08fb2ea80.bindPopup%28popup_f286a310d5794171908504e63b34fc15%29%0A%20%20%20%20%20%20%20%20%20%20%20%20%3B%0A%0A%20%20%20%20%20%20%20%20%20%20%20%20%0A%20%20%20%20%20%20%20%20%0A%3C/script%3E onload=\"this.contentDocument.open();this.contentDocument.write(    decodeURIComponent(this.getAttribute('data-html')));this.contentDocument.close();\" allowfullscreen webkitallowfullscreen mozallowfullscreen></iframe></div></div>"
            ],
            "text/plain": [
              "<folium.folium.Map at 0x7f21b1b24cd0>"
            ]
          },
          "metadata": {},
          "execution_count": 73
        }
      ]
    },
    {
      "cell_type": "markdown",
      "source": [
        "![map](https://github.com/leobioinf0/Base_de_dades_NoSQL/blob/main/12_map.png?raw=true)"
      ],
      "metadata": {
        "id": "Rgc7jYkLq3R9"
      }
    }
  ],
  "metadata": {
    "colab": {
      "collapsed_sections": [
        "LqkBxTqIhmBZ"
      ],
      "name": "S14_T01_NoSQL.ipynb",
      "provenance": [],
      "include_colab_link": true
    },
    "interpreter": {
      "hash": "31f2aee4e71d21fbe5cf8b01ff0e069b9275f58929596ceb00d14d90e3e16cd6"
    },
    "kernelspec": {
      "display_name": "Python 3",
      "language": "python",
      "name": "python3"
    },
    "language_info": {
      "codemirror_mode": {
        "name": "ipython",
        "version": 3
      },
      "file_extension": ".py",
      "mimetype": "text/x-python",
      "name": "python",
      "nbconvert_exporter": "python",
      "pygments_lexer": "ipython3",
      "version": "3.8.10"
    },
    "metadata": {
      "interpreter": {
        "hash": "31f2aee4e71d21fbe5cf8b01ff0e069b9275f58929596ceb00d14d90e3e16cd6"
      }
    }
  },
  "nbformat": 4,
  "nbformat_minor": 0
}